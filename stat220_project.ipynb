{
 "cells": [
  {
   "cell_type": "code",
   "execution_count": 3,
   "id": "12b09e86",
   "metadata": {},
   "outputs": [],
   "source": [
    "import requests\n",
    "import lxml.html as lx\n",
    "import time\n",
    "import re\n",
    "import pandas as pd"
   ]
  },
  {
   "cell_type": "markdown",
   "id": "21481475",
   "metadata": {},
   "source": [
    "# Udemy Description"
   ]
  },
  {
   "cell_type": "code",
   "execution_count": 4,
   "id": "bc8567e4",
   "metadata": {},
   "outputs": [],
   "source": [
    "\n",
    "# make a get request on session object and return response\n",
    "def get_http_response( url, params = {} ):\n",
    "\n",
    "  time.sleep(0.1)\n",
    "\n",
    "  try:\n",
    "    # get request\n",
    "    response = requests.get( url, params )\n",
    "    response.raise_for_status()\n",
    "\n",
    "  # handle exceptions\n",
    "  except requests.exceptions.HTTPError as e:\n",
    "    print(\"Too many requests!!\")\n",
    "    print(e)\n",
    "    return None\n",
    "\n",
    "  except requests.exceptions.URLRequired as e:\n",
    "    print(\"Invalid URL: Server could not be found for the given url\")\n",
    "    return None\n",
    "\n",
    "  else:\n",
    "    # return the response if no exceptions\n",
    "    return response\n",
    "\n",
    "\n",
    "    "
   ]
  },
  {
   "cell_type": "code",
   "execution_count": 5,
   "id": "f0d7f35e",
   "metadata": {},
   "outputs": [],
   "source": [
    "def get_udemy_course_details( url ):\n",
    "    \n",
    "    course_description = ''\n",
    "    learning_objectives = ''\n",
    "    \n",
    "    response = get_http_response( url )\n",
    "    \n",
    "    try:\n",
    "        html = lx.fromstring(response.text)\n",
    "        \n",
    "        course_description = html.xpath(\"//body//div[@data-purpose='safely-set-inner-html:description:description']//text()\")\n",
    "        course_description = \" \".join(course_description).replace('\\xa0', ' ')\n",
    "\n",
    "        learning_objectives = html.xpath(\"//body//ul[contains(@class, 'what-you-will-learn--objectives-list-two-column-layout--ED4as')]//div[contains(@class, 'ud-block-list-item-content')]//span/text()\")\n",
    "        learning_objectives = \" \".join(learning_objectives)\n",
    "    except:\n",
    "        print(\"No learning onjectives found: \" + course_description )\n",
    "        return course_description if course_description else (learning_objectives if learning_objectives else '')\n",
    "    else:\n",
    "        course_details = course_description + ' ' + learning_objectives\n",
    "        return course_details\n",
    "    "
   ]
  },
  {
   "cell_type": "code",
   "execution_count": 6,
   "id": "4bde35d0",
   "metadata": {},
   "outputs": [],
   "source": [
    "url = 'https://www.udemy.com/course/javascript-web-projects-to-build-your-portfolio-resume'"
   ]
  },
  {
   "cell_type": "code",
   "execution_count": 7,
   "id": "c5651ee2",
   "metadata": {},
   "outputs": [],
   "source": [
    "desc = get_udemy_course_details(url)"
   ]
  },
  {
   "cell_type": "code",
   "execution_count": 8,
   "id": "eec105c3",
   "metadata": {},
   "outputs": [
    {
     "data": {
      "text/plain": [
       "\"Just updated with all modern features of HTML5, CSS3 and JavaScript! Join a live online community of over 900,000+ developers and a course taught by industry experts that have actually worked both in Silicon Valley and Toronto with JavaScript!   This course is focused on efficiency and getting you hired by building your dream portfolio so you can get a job or work as a freelancer. Never spend time on confusing, out of date, incomplete tutorials anymore!  Graduates of Andrei’s courses are now working at Google, Tesla, Amazon, Apple, IBM, JP Morgan, Facebook, + other top tech companies  (seriously, google this to verify some testimonials). Whether you want to become a freelancer, get hired, or to just advance your career,  this brand new course will take you step by step through 20 JavaScript projects that you will be able to customize and put on your portfolio right away.  Along the way, you will learn to build projects using HTML, CSS and JavaScript and truly build your skills as a JavaScript developer. Whether you want to one day learn React, Angular, Vue JS, Node.js, Svelte, or any other toolchain of a modern developer, at the end of the day, JavaScript fundamentals are key, and learning JavaScript is an investment that will pay off many years into the future. By solidifying your JavaScript knowledge and being able to build thing without crutches like libraries and frameworks, you will future proof yourself.  Here is the truth: It’s easy to find JavaScript projects to work on online. You can copy and paste code. You can watch YouTube videos. That’s simple  (and free) . This course is different in that not only de we have modern projects using the latest features of JavaScript, and browser APIs,  but we also do a Code Review of each project.  After we build a website, we go through the code and talk about how we can improve the code, how to improve the security, or improve the performance of your projects. It’s like having a senior developer finally teach you what good code means, what are the common mistakes beginners make, and how to  write maintainable code. All code is going to be provided to you, and even if you don’t like to code along, you will get access to the code for the projects to put them on your portfolio right away. So what are we building? Get ready for this:  Spock Rock Game - Confetti.js, Modules Quote Generator - Fetch, Async/Await, Quote API, CORS Picture-in-Picture - Picture-in-Picture API, Screen Capture API Bookmarks App - DOM, localStorage NASA APOD - Fetch,   Async/Await, NASA API, DOM, localStorage Animated Navigation - CSS Animations Infinite Scroll - Fetch, Async/Await, Unsplash API, DOM, Scroll Event Listener Countdown App - Date, localStorage Music Player - HTML 5 Audio API Calculator - Math Methods Splash Page - DOM Basics Light/Dark Mode - DOM, localStorage Form Validation - DOM, Forms Joke Teller - Fetch, Async/Await, Joke API, Text-to-Speech Video Player - HTML 5 Video API MS Paint Clone - Advanced HTML Canvas, localStorage Pong Clone - Advanced HTML Canvas Math Sprint Game - SetInterval, DOM, Array Methods, localStorage Animated Template - Template, AOS.js Drag and Drop - Drag and Drop API, localStorage We will be using modern ES6,ES7,ES8,ES9,ES10 features to master JavaScript! Think of this as a full on JavaScript bootcamp to get you from a beginner to a confident programmer! on top of that, we also cover common UI/UX practices to make sure we have good designs and our projects are mobile friendly. The course is not about making you just code along without understanding the principles so that when you are done with the course you don’t know what to do other than watch another tutorial. No!  This course will push you and challenge you to go from an absolute beginner in JavaScript to someone that is able to build projects on their own. So the best time to begin? It's Today! By taking that first step right now, you are that much closer to developing the skills that get you hired and closer to your dream career.  See you inside the course :) Taught By: Andrei Neagoie is the instructor of the  highest rated Development courses on Udemy as well as one of the fastest growing.  His graduates have moved on to work for some of the biggest tech companies around the world like Apple, Google, Amazon, JP Morgan, IBM, UNIQLO etc... He has been working as a senior software developer in Silicon Valley and Toronto for many years, and is now taking all that he has learned, to teach programming skills and to help you discover the amazing career opportunities that being a developer allows in life.  Having been a self taught programmer, he understands that there is an overwhelming number of online courses, tutorials and books that are overly verbose and inadequate at teaching proper skills. Most people feel paralyzed and don't know where to start when learning a complex subject matter, or even worse, most people don't have $20,000 to spend on a coding bootcamp.  Programming skills should be affordable and open to all. An education material should teach real life skills that are current and they should not waste a student's valuable time.    Having learned important lessons from working for Fortune 500 companies, tech startups, to even founding his own business, he is now dedicating 100% of his time to teaching others valuable software development skills in order to take control of their life and work in an exciting industry with infinite possibilities.  Andrei promises you that there are no other courses out there as comprehensive and as well explained.  He believes that in order to learn anything of value, you need to start with the foundation and develop the roots of the tree. Only from there will you be able to learn concepts and specific skills(leaves) that connect to the foundation. Learning becomes exponential when structured in this way.   Taking his experience in educational psychology and coding, Andrei's courses will take you on an understanding of complex subjects that you never thought would be possible.    -------- Jacinto is a Senior Developer with the Canadian Broadcasting Corporation with a diverse background, including 5 years experience as a teacher in Canada and South Korea. He has had a passion for technology from a very young age, which led him to build his first computer at age 12 and start using design software at 16. As an instructor for the Zero To Mastery Academy, Jacinto combines these artistic and critical thinking skills to create high quality projects that will add real value to student’s portfolios and jump start their careers in web development. Starting out learning something new can be challenging and there are so many resources available that it can be overwhelming. Jacinto understands that for some, bootcamps and post-secondary education are too time-consuming or expensive for many to consider. With that in mind, he does his best to create the highest quality courses that are inexpensive and beginner-friendly. As a self-taught developer,  Jacinto started from scratch and learned enough to land a Senior Developer job after only 4 months working through online courses . He knows it is possible to upgrade your skills and switch careers without spending excessive time or money. He couldn’t be happier to be in this exciting and growing industry and aims to provide students with the same opportunity. See you inside the courses! 20 projects with pure JavaScript, HTML5, CSS3 with all code provided Go from a total beginner to a confident JavaScript developer Learn UI/UX practices to build responsive and mobile first web applications Asynchronous programming with AJAX, Fetch API, Promises & Async + Await Write clean, maintainable and performant Javascript code Work with Web APIs (localStorage, DOM, + more) Modern HTML5 (Canvas, Video, Audio + more) Modern CSS3 (Animations, Transitions, Variables + more) Avoid common mistakes other Javascript programmers and beginners make Build 20 beautiful and customizable, real world frontend applications\""
      ]
     },
     "execution_count": 8,
     "metadata": {},
     "output_type": "execute_result"
    }
   ],
   "source": [
    "desc"
   ]
  },
  {
   "cell_type": "markdown",
   "id": "4f99dff6",
   "metadata": {},
   "source": [
    "#  Coursera"
   ]
  },
  {
   "cell_type": "code",
   "execution_count": 9,
   "id": "42d85999",
   "metadata": {},
   "outputs": [],
   "source": [
    "baseURL = 'https://www.coursera.org/courses?query=web%20development&page=2&productTypeDescription=Courses'"
   ]
  },
  {
   "cell_type": "code",
   "execution_count": 10,
   "id": "9b59046f",
   "metadata": {},
   "outputs": [
    {
     "ename": "SyntaxError",
     "evalue": "incomplete input (1788442240.py, line 1)",
     "output_type": "error",
     "traceback": [
      "\u001b[1;36m  Cell \u001b[1;32mIn[10], line 1\u001b[1;36m\u001b[0m\n\u001b[1;33m    def get_course_list( baseURL ):\u001b[0m\n\u001b[1;37m                                   ^\u001b[0m\n\u001b[1;31mSyntaxError\u001b[0m\u001b[1;31m:\u001b[0m incomplete input\n"
     ]
    }
   ],
   "source": [
    "def get_course_list( baseURL ):"
   ]
  },
  {
   "cell_type": "code",
   "execution_count": 11,
   "id": "d7c30318",
   "metadata": {},
   "outputs": [],
   "source": [
    "import os"
   ]
  },
  {
   "cell_type": "code",
   "execution_count": 12,
   "id": "44e50a68",
   "metadata": {},
   "outputs": [
    {
     "data": {
      "text/plain": [
       "['.git',\n",
       " '.ipynb_checkpoints',\n",
       " 'initial_udemy_course_title_url_list.csv',\n",
       " 'README.md',\n",
       " 'stat220_project.ipynb',\n",
       " 'Udemy API.ipynb',\n",
       " 'udemy_course_all_info_without_description.csv']"
      ]
     },
     "execution_count": 12,
     "metadata": {},
     "output_type": "execute_result"
    }
   ],
   "source": [
    "os.listdir()"
   ]
  },
  {
   "cell_type": "code",
   "execution_count": 13,
   "id": "abf3b60e",
   "metadata": {},
   "outputs": [],
   "source": [
    "df = pd.read_csv('udemy_course_all_info_without_description.csv')"
   ]
  },
  {
   "cell_type": "code",
   "execution_count": 14,
   "id": "33813bff",
   "metadata": {},
   "outputs": [
    {
     "data": {
      "text/html": [
       "<div>\n",
       "<style scoped>\n",
       "    .dataframe tbody tr th:only-of-type {\n",
       "        vertical-align: middle;\n",
       "    }\n",
       "\n",
       "    .dataframe tbody tr th {\n",
       "        vertical-align: top;\n",
       "    }\n",
       "\n",
       "    .dataframe thead th {\n",
       "        text-align: right;\n",
       "    }\n",
       "</style>\n",
       "<table border=\"1\" class=\"dataframe\">\n",
       "  <thead>\n",
       "    <tr style=\"text-align: right;\">\n",
       "      <th></th>\n",
       "      <th>course_id</th>\n",
       "      <th>course_title</th>\n",
       "      <th>course_url</th>\n",
       "      <th>course_instructor</th>\n",
       "      <th>course_rating</th>\n",
       "      <th>course_duration</th>\n",
       "      <th>course_details</th>\n",
       "      <th>course_level</th>\n",
       "      <th>course_no_of_reviews</th>\n",
       "      <th>course_no_of_enrolled</th>\n",
       "    </tr>\n",
       "  </thead>\n",
       "  <tbody>\n",
       "    <tr>\n",
       "      <th>0</th>\n",
       "      <td>ud_1565838</td>\n",
       "      <td>The Complete 2024 Web Development Bootcamp</td>\n",
       "      <td>https://www.udemy.com/course/the-complete-web-...</td>\n",
       "      <td>Dr. Angela Yu</td>\n",
       "      <td>4.701074</td>\n",
       "      <td>62.0</td>\n",
       "      <td>NaN</td>\n",
       "      <td>0</td>\n",
       "      <td>362657</td>\n",
       "      <td>1208632</td>\n",
       "    </tr>\n",
       "    <tr>\n",
       "      <th>1</th>\n",
       "      <td>ud_625204</td>\n",
       "      <td>The Web Developer Bootcamp 2024</td>\n",
       "      <td>https://www.udemy.com/course/the-web-developer...</td>\n",
       "      <td>Colt Steele</td>\n",
       "      <td>4.677242</td>\n",
       "      <td>74.0</td>\n",
       "      <td>NaN</td>\n",
       "      <td>0</td>\n",
       "      <td>270209</td>\n",
       "      <td>902271</td>\n",
       "    </tr>\n",
       "    <tr>\n",
       "      <th>2</th>\n",
       "      <td>ud_851712</td>\n",
       "      <td>The Complete JavaScript Course 2024: From Zero...</td>\n",
       "      <td>https://www.udemy.com/course/the-complete-java...</td>\n",
       "      <td>Jonas Schmedtmann</td>\n",
       "      <td>4.713503</td>\n",
       "      <td>68.5</td>\n",
       "      <td>NaN</td>\n",
       "      <td>0</td>\n",
       "      <td>201155</td>\n",
       "      <td>888778</td>\n",
       "    </tr>\n",
       "    <tr>\n",
       "      <th>3</th>\n",
       "      <td>ud_756150</td>\n",
       "      <td>Angular - The Complete Guide (2024 Edition)</td>\n",
       "      <td>https://www.udemy.com/course/the-complete-guid...</td>\n",
       "      <td>Maximilian Schwarzmüller</td>\n",
       "      <td>4.617524</td>\n",
       "      <td>36.5</td>\n",
       "      <td>NaN</td>\n",
       "      <td>0</td>\n",
       "      <td>198086</td>\n",
       "      <td>742648</td>\n",
       "    </tr>\n",
       "    <tr>\n",
       "      <th>4</th>\n",
       "      <td>ud_437398</td>\n",
       "      <td>Build Responsive Real-World Websites with HTML...</td>\n",
       "      <td>https://www.udemy.com/course/design-and-develo...</td>\n",
       "      <td>Jonas Schmedtmann</td>\n",
       "      <td>4.757232</td>\n",
       "      <td>37.5</td>\n",
       "      <td>NaN</td>\n",
       "      <td>0</td>\n",
       "      <td>104332</td>\n",
       "      <td>412961</td>\n",
       "    </tr>\n",
       "  </tbody>\n",
       "</table>\n",
       "</div>"
      ],
      "text/plain": [
       "    course_id                                       course_title  \\\n",
       "0  ud_1565838         The Complete 2024 Web Development Bootcamp   \n",
       "1   ud_625204                    The Web Developer Bootcamp 2024   \n",
       "2   ud_851712  The Complete JavaScript Course 2024: From Zero...   \n",
       "3   ud_756150        Angular - The Complete Guide (2024 Edition)   \n",
       "4   ud_437398  Build Responsive Real-World Websites with HTML...   \n",
       "\n",
       "                                          course_url  \\\n",
       "0  https://www.udemy.com/course/the-complete-web-...   \n",
       "1  https://www.udemy.com/course/the-web-developer...   \n",
       "2  https://www.udemy.com/course/the-complete-java...   \n",
       "3  https://www.udemy.com/course/the-complete-guid...   \n",
       "4  https://www.udemy.com/course/design-and-develo...   \n",
       "\n",
       "          course_instructor  course_rating  course_duration  course_details  \\\n",
       "0             Dr. Angela Yu       4.701074             62.0             NaN   \n",
       "1               Colt Steele       4.677242             74.0             NaN   \n",
       "2         Jonas Schmedtmann       4.713503             68.5             NaN   \n",
       "3  Maximilian Schwarzmüller       4.617524             36.5             NaN   \n",
       "4         Jonas Schmedtmann       4.757232             37.5             NaN   \n",
       "\n",
       "   course_level  course_no_of_reviews  course_no_of_enrolled  \n",
       "0             0                362657                1208632  \n",
       "1             0                270209                 902271  \n",
       "2             0                201155                 888778  \n",
       "3             0                198086                 742648  \n",
       "4             0                104332                 412961  "
      ]
     },
     "execution_count": 14,
     "metadata": {},
     "output_type": "execute_result"
    }
   ],
   "source": [
    "df.head()"
   ]
  },
  {
   "cell_type": "code",
   "execution_count": 24,
   "id": "c1c76f2a",
   "metadata": {},
   "outputs": [
    {
     "name": "stdout",
     "output_type": "stream",
     "text": [
      "Too many requests!!\n",
      "502 Server Error: Bad Gateway for url: https://www.udemy.com/course/understanding-html-and-css/\n",
      "No learning onjectives found: \n",
      "Too many requests!!\n",
      "502 Server Error: Bad Gateway for url: https://www.udemy.com/course/full-stack-web-development-html-css-bootstrap-and-react-js/\n",
      "No learning onjectives found: \n",
      "Too many requests!!\n",
      "502 Server Error: Bad Gateway for url: https://www.udemy.com/course/utilize-cpanel-to-maximize-your-websites-potential/\n",
      "No learning onjectives found: \n",
      "Too many requests!!\n",
      "500 Server Error: Internal Server Error for url: https://www.udemy.com/course/complete-reactjs-developer-bootcamp-build-10-projects/\n",
      "No learning onjectives found: \n"
     ]
    }
   ],
   "source": [
    "df['course_details'] = df['course_url'].apply(get_udemy_course_details)"
   ]
  },
  {
   "cell_type": "code",
   "execution_count": 25,
   "id": "c8267dc6",
   "metadata": {},
   "outputs": [
    {
     "data": {
      "text/html": [
       "<div>\n",
       "<style scoped>\n",
       "    .dataframe tbody tr th:only-of-type {\n",
       "        vertical-align: middle;\n",
       "    }\n",
       "\n",
       "    .dataframe tbody tr th {\n",
       "        vertical-align: top;\n",
       "    }\n",
       "\n",
       "    .dataframe thead th {\n",
       "        text-align: right;\n",
       "    }\n",
       "</style>\n",
       "<table border=\"1\" class=\"dataframe\">\n",
       "  <thead>\n",
       "    <tr style=\"text-align: right;\">\n",
       "      <th></th>\n",
       "      <th>course_id</th>\n",
       "      <th>course_title</th>\n",
       "      <th>course_url</th>\n",
       "      <th>course_instructor</th>\n",
       "      <th>course_rating</th>\n",
       "      <th>course_duration</th>\n",
       "      <th>course_details</th>\n",
       "      <th>course_level</th>\n",
       "      <th>course_no_of_reviews</th>\n",
       "      <th>course_no_of_enrolled</th>\n",
       "    </tr>\n",
       "  </thead>\n",
       "  <tbody>\n",
       "    <tr>\n",
       "      <th>0</th>\n",
       "      <td>ud_1565838</td>\n",
       "      <td>The Complete 2024 Web Development Bootcamp</td>\n",
       "      <td>https://www.udemy.com/course/the-complete-web-...</td>\n",
       "      <td>Dr. Angela Yu</td>\n",
       "      <td>4.701074</td>\n",
       "      <td>62.0</td>\n",
       "      <td>Welcome to the Complete Web Development Bootca...</td>\n",
       "      <td>0</td>\n",
       "      <td>362657</td>\n",
       "      <td>1208632</td>\n",
       "    </tr>\n",
       "    <tr>\n",
       "      <th>1</th>\n",
       "      <td>ud_625204</td>\n",
       "      <td>The Web Developer Bootcamp 2024</td>\n",
       "      <td>https://www.udemy.com/course/the-web-developer...</td>\n",
       "      <td>Colt Steele</td>\n",
       "      <td>4.677242</td>\n",
       "      <td>74.0</td>\n",
       "      <td>Now with over 10 hours of React content.  Just...</td>\n",
       "      <td>0</td>\n",
       "      <td>270209</td>\n",
       "      <td>902271</td>\n",
       "    </tr>\n",
       "    <tr>\n",
       "      <th>2</th>\n",
       "      <td>ud_851712</td>\n",
       "      <td>The Complete JavaScript Course 2024: From Zero...</td>\n",
       "      <td>https://www.udemy.com/course/the-complete-java...</td>\n",
       "      <td>Jonas Schmedtmann</td>\n",
       "      <td>4.713503</td>\n",
       "      <td>68.5</td>\n",
       "      <td>The #1 bestselling JavaScript course on Udemy!...</td>\n",
       "      <td>0</td>\n",
       "      <td>201155</td>\n",
       "      <td>888778</td>\n",
       "    </tr>\n",
       "    <tr>\n",
       "      <th>3</th>\n",
       "      <td>ud_756150</td>\n",
       "      <td>Angular - The Complete Guide (2024 Edition)</td>\n",
       "      <td>https://www.udemy.com/course/the-complete-guid...</td>\n",
       "      <td>Maximilian Schwarzmüller</td>\n",
       "      <td>4.617524</td>\n",
       "      <td>36.5</td>\n",
       "      <td>Join the most comprehensive and bestselling An...</td>\n",
       "      <td>0</td>\n",
       "      <td>198086</td>\n",
       "      <td>742648</td>\n",
       "    </tr>\n",
       "    <tr>\n",
       "      <th>4</th>\n",
       "      <td>ud_437398</td>\n",
       "      <td>Build Responsive Real-World Websites with HTML...</td>\n",
       "      <td>https://www.udemy.com/course/design-and-develo...</td>\n",
       "      <td>Jonas Schmedtmann</td>\n",
       "      <td>4.757232</td>\n",
       "      <td>37.5</td>\n",
       "      <td>*** The #1 bestselling HTML and CSS course on ...</td>\n",
       "      <td>0</td>\n",
       "      <td>104332</td>\n",
       "      <td>412961</td>\n",
       "    </tr>\n",
       "    <tr>\n",
       "      <th>5</th>\n",
       "      <td>ud_705264</td>\n",
       "      <td>Modern React with Redux [2024 Update]</td>\n",
       "      <td>https://www.udemy.com/course/react-redux/</td>\n",
       "      <td>Stephen Grider</td>\n",
       "      <td>4.729831</td>\n",
       "      <td>43.5</td>\n",
       "      <td>This course gets updated frequently! Here are ...</td>\n",
       "      <td>0</td>\n",
       "      <td>85893</td>\n",
       "      <td>314340</td>\n",
       "    </tr>\n",
       "    <tr>\n",
       "      <th>6</th>\n",
       "      <td>ud_764164</td>\n",
       "      <td>The Complete Web Developer Course 3.0</td>\n",
       "      <td>https://www.udemy.com/course/the-complete-web-...</td>\n",
       "      <td>Rob Percival</td>\n",
       "      <td>4.611889</td>\n",
       "      <td>31.0</td>\n",
       "      <td>25hrs+ BRAND NEW CONTENT to get you coding in ...</td>\n",
       "      <td>0</td>\n",
       "      <td>71955</td>\n",
       "      <td>313401</td>\n",
       "    </tr>\n",
       "    <tr>\n",
       "      <th>7</th>\n",
       "      <td>ud_995016</td>\n",
       "      <td>Vue - The Complete Guide (incl. Router &amp; Compo...</td>\n",
       "      <td>https://www.udemy.com/course/vuejs-2-the-compl...</td>\n",
       "      <td>Maximilian Schwarzmüller</td>\n",
       "      <td>4.757785</td>\n",
       "      <td>32.0</td>\n",
       "      <td>Join this bestselling Vue course to learn how ...</td>\n",
       "      <td>0</td>\n",
       "      <td>62231</td>\n",
       "      <td>235722</td>\n",
       "    </tr>\n",
       "    <tr>\n",
       "      <th>8</th>\n",
       "      <td>ud_1352468</td>\n",
       "      <td>Master Microservices with Spring Boot and Spri...</td>\n",
       "      <td>https://www.udemy.com/course/microservices-wit...</td>\n",
       "      <td>in28Minutes Official</td>\n",
       "      <td>4.570384</td>\n",
       "      <td>25.0</td>\n",
       "      <td>Do you want to learn from the  MOST POPULAR  C...</td>\n",
       "      <td>0</td>\n",
       "      <td>50167</td>\n",
       "      <td>248246</td>\n",
       "    </tr>\n",
       "    <tr>\n",
       "      <th>9</th>\n",
       "      <td>ud_822444</td>\n",
       "      <td>Python and Django Full Stack Web Developer Boo...</td>\n",
       "      <td>https://www.udemy.com/course/python-and-django...</td>\n",
       "      <td>Jose Portilla</td>\n",
       "      <td>4.456585</td>\n",
       "      <td>32.0</td>\n",
       "      <td>Welcome to the Python and Django Full Stack We...</td>\n",
       "      <td>0</td>\n",
       "      <td>49455</td>\n",
       "      <td>207962</td>\n",
       "    </tr>\n",
       "  </tbody>\n",
       "</table>\n",
       "</div>"
      ],
      "text/plain": [
       "    course_id                                       course_title  \\\n",
       "0  ud_1565838         The Complete 2024 Web Development Bootcamp   \n",
       "1   ud_625204                    The Web Developer Bootcamp 2024   \n",
       "2   ud_851712  The Complete JavaScript Course 2024: From Zero...   \n",
       "3   ud_756150        Angular - The Complete Guide (2024 Edition)   \n",
       "4   ud_437398  Build Responsive Real-World Websites with HTML...   \n",
       "5   ud_705264              Modern React with Redux [2024 Update]   \n",
       "6   ud_764164              The Complete Web Developer Course 3.0   \n",
       "7   ud_995016  Vue - The Complete Guide (incl. Router & Compo...   \n",
       "8  ud_1352468  Master Microservices with Spring Boot and Spri...   \n",
       "9   ud_822444  Python and Django Full Stack Web Developer Boo...   \n",
       "\n",
       "                                          course_url  \\\n",
       "0  https://www.udemy.com/course/the-complete-web-...   \n",
       "1  https://www.udemy.com/course/the-web-developer...   \n",
       "2  https://www.udemy.com/course/the-complete-java...   \n",
       "3  https://www.udemy.com/course/the-complete-guid...   \n",
       "4  https://www.udemy.com/course/design-and-develo...   \n",
       "5          https://www.udemy.com/course/react-redux/   \n",
       "6  https://www.udemy.com/course/the-complete-web-...   \n",
       "7  https://www.udemy.com/course/vuejs-2-the-compl...   \n",
       "8  https://www.udemy.com/course/microservices-wit...   \n",
       "9  https://www.udemy.com/course/python-and-django...   \n",
       "\n",
       "          course_instructor  course_rating  course_duration  \\\n",
       "0             Dr. Angela Yu       4.701074             62.0   \n",
       "1               Colt Steele       4.677242             74.0   \n",
       "2         Jonas Schmedtmann       4.713503             68.5   \n",
       "3  Maximilian Schwarzmüller       4.617524             36.5   \n",
       "4         Jonas Schmedtmann       4.757232             37.5   \n",
       "5            Stephen Grider       4.729831             43.5   \n",
       "6              Rob Percival       4.611889             31.0   \n",
       "7  Maximilian Schwarzmüller       4.757785             32.0   \n",
       "8      in28Minutes Official       4.570384             25.0   \n",
       "9             Jose Portilla       4.456585             32.0   \n",
       "\n",
       "                                      course_details  course_level  \\\n",
       "0  Welcome to the Complete Web Development Bootca...             0   \n",
       "1  Now with over 10 hours of React content.  Just...             0   \n",
       "2  The #1 bestselling JavaScript course on Udemy!...             0   \n",
       "3  Join the most comprehensive and bestselling An...             0   \n",
       "4  *** The #1 bestselling HTML and CSS course on ...             0   \n",
       "5  This course gets updated frequently! Here are ...             0   \n",
       "6  25hrs+ BRAND NEW CONTENT to get you coding in ...             0   \n",
       "7  Join this bestselling Vue course to learn how ...             0   \n",
       "8  Do you want to learn from the  MOST POPULAR  C...             0   \n",
       "9  Welcome to the Python and Django Full Stack We...             0   \n",
       "\n",
       "   course_no_of_reviews  course_no_of_enrolled  \n",
       "0                362657                1208632  \n",
       "1                270209                 902271  \n",
       "2                201155                 888778  \n",
       "3                198086                 742648  \n",
       "4                104332                 412961  \n",
       "5                 85893                 314340  \n",
       "6                 71955                 313401  \n",
       "7                 62231                 235722  \n",
       "8                 50167                 248246  \n",
       "9                 49455                 207962  "
      ]
     },
     "execution_count": 25,
     "metadata": {},
     "output_type": "execute_result"
    }
   ],
   "source": [
    "df.head(10)"
   ]
  },
  {
   "cell_type": "code",
   "execution_count": 51,
   "id": "7085975e",
   "metadata": {},
   "outputs": [
    {
     "data": {
      "text/plain": [
       "0       Welcome to the Complete Web Development Bootca...\n",
       "1       Now with over 10 hours of React content.  Just...\n",
       "2       The #1 bestselling JavaScript course on Udemy!...\n",
       "3       Join the most comprehensive and bestselling An...\n",
       "4       *** The #1 bestselling HTML and CSS course on ...\n",
       "                              ...                        \n",
       "5651    Are you fascinated by the art of web developme...\n",
       "5652    Unleash the Power of String Diffing: Build & D...\n",
       "5653    Follow along with the course to create a full ...\n",
       "5654    Gives students and advanced learners a good gr...\n",
       "5655    You can code!  This HTML course is designed fo...\n",
       "Name: course_details, Length: 5656, dtype: object"
      ]
     },
     "execution_count": 51,
     "metadata": {},
     "output_type": "execute_result"
    }
   ],
   "source": [
    "df['course_details'].apply(lambda x: x.strip())"
   ]
  },
  {
   "cell_type": "code",
   "execution_count": 59,
   "id": "c9db4ca9",
   "metadata": {},
   "outputs": [],
   "source": [
    "df = df[df['course_details'] != ' ']"
   ]
  },
  {
   "cell_type": "code",
   "execution_count": 60,
   "id": "d6bf57a9",
   "metadata": {},
   "outputs": [],
   "source": [
    "count = (df['course_details'] == ' ').sum()"
   ]
  },
  {
   "cell_type": "code",
   "execution_count": 62,
   "id": "d9b7f0fc",
   "metadata": {},
   "outputs": [
    {
     "data": {
      "text/plain": [
       "5642"
      ]
     },
     "execution_count": 62,
     "metadata": {},
     "output_type": "execute_result"
    }
   ],
   "source": [
    "len(df)"
   ]
  },
  {
   "cell_type": "code",
   "execution_count": 66,
   "id": "3ea75fad",
   "metadata": {},
   "outputs": [],
   "source": [
    "empty_details_indices = df['course_details'] == ''"
   ]
  },
  {
   "cell_type": "code",
   "execution_count": 67,
   "id": "e9d7067a",
   "metadata": {},
   "outputs": [],
   "source": [
    "df.loc[empty_details_indices, 'course_details'] = df.loc[empty_details_indices, 'course_url'].apply(get_udemy_course_details)"
   ]
  },
  {
   "cell_type": "code",
   "execution_count": 69,
   "id": "5a33da8f",
   "metadata": {},
   "outputs": [
    {
     "name": "stdout",
     "output_type": "stream",
     "text": [
      "Index([], dtype='int64')\n"
     ]
    }
   ],
   "source": [
    "print(df[df['course_details'] == ''].index)"
   ]
  },
  {
   "cell_type": "code",
   "execution_count": 74,
   "id": "2604f399",
   "metadata": {},
   "outputs": [],
   "source": [
    "df.to_csv('udemy_course_all_info.csv')"
   ]
  },
  {
   "cell_type": "code",
   "execution_count": null,
   "id": "b56cc6b6",
   "metadata": {},
   "outputs": [],
   "source": []
  }
 ],
 "metadata": {
  "kernelspec": {
   "display_name": "Python 3 (ipykernel)",
   "language": "python",
   "name": "python3"
  },
  "language_info": {
   "codemirror_mode": {
    "name": "ipython",
    "version": 3
   },
   "file_extension": ".py",
   "mimetype": "text/x-python",
   "name": "python",
   "nbconvert_exporter": "python",
   "pygments_lexer": "ipython3",
   "version": "3.11.5"
  }
 },
 "nbformat": 4,
 "nbformat_minor": 5
}
