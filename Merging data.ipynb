{
 "cells": [
  {
   "cell_type": "code",
   "execution_count": 6,
   "id": "d8656373-764d-45d4-9b25-ace361926595",
   "metadata": {},
   "outputs": [],
   "source": [
    "import pandas as pd"
   ]
  },
  {
   "cell_type": "code",
   "execution_count": 7,
   "id": "954e460c-5bbc-481a-aa71-0e9c8d1d01d3",
   "metadata": {},
   "outputs": [],
   "source": [
    "udemy_data = pd.read_csv('./Udemy/udemy_course_all_info.csv')"
   ]
  },
  {
   "cell_type": "code",
   "execution_count": 8,
   "id": "4f62325e-d6fa-4066-9f56-928973280f2f",
   "metadata": {},
   "outputs": [],
   "source": [
    "udemy_data = udemy_data.drop_duplicates(subset=['course_id'])"
   ]
  },
  {
   "cell_type": "code",
   "execution_count": 9,
   "id": "c30afda2-432d-41a0-81c9-20ec87cac4ab",
   "metadata": {},
   "outputs": [],
   "source": [
    "coursera_data = pd.read_csv('Coursera/coursera_course_all_info.csv')"
   ]
  },
  {
   "cell_type": "code",
   "execution_count": 10,
   "id": "bf606294-dab4-455b-a21a-a1ee73a2043b",
   "metadata": {},
   "outputs": [],
   "source": [
    "coursera_data = coursera_data.drop_duplicates(subset=['course_id'])"
   ]
  },
  {
   "cell_type": "code",
   "execution_count": 11,
   "id": "2fe10f29-a470-4be1-990b-20b98d4612be",
   "metadata": {},
   "outputs": [],
   "source": [
    "pluralsight_data = pd.read_csv('PluralSight/pluralsight_course_all_info.csv')"
   ]
  },
  {
   "cell_type": "code",
   "execution_count": 12,
   "id": "349cdc30-a1d8-4ad3-8e79-0c39e7627d4f",
   "metadata": {},
   "outputs": [],
   "source": [
    "pluralsight_data = pluralsight_data.drop_duplicates(subset=['course_id'])"
   ]
  },
  {
   "cell_type": "code",
   "execution_count": 13,
   "id": "aa4fc1a3-10e5-47b3-a845-f3add92e562e",
   "metadata": {},
   "outputs": [
    {
     "data": {
      "text/plain": [
       "(5604, 11)"
      ]
     },
     "execution_count": 13,
     "metadata": {},
     "output_type": "execute_result"
    }
   ],
   "source": [
    "udemy_data.shape"
   ]
  },
  {
   "cell_type": "code",
   "execution_count": 14,
   "id": "555dcf56-280a-416c-9a24-74eee3646d1c",
   "metadata": {},
   "outputs": [
    {
     "data": {
      "text/plain": [
       "(690, 11)"
      ]
     },
     "execution_count": 14,
     "metadata": {},
     "output_type": "execute_result"
    }
   ],
   "source": [
    "coursera_data.shape"
   ]
  },
  {
   "cell_type": "code",
   "execution_count": 15,
   "id": "3d1e3818-c62e-412d-b5ba-70a51ec43a88",
   "metadata": {},
   "outputs": [
    {
     "data": {
      "text/plain": [
       "(191, 10)"
      ]
     },
     "execution_count": 15,
     "metadata": {},
     "output_type": "execute_result"
    }
   ],
   "source": [
    "pluralsight_data.shape"
   ]
  },
  {
   "cell_type": "code",
   "execution_count": 16,
   "id": "2a0dfe55-f1a4-4e2e-b4b6-b622da1ac0cb",
   "metadata": {},
   "outputs": [],
   "source": [
    "udemy_data.drop(columns=['Unnamed: 0'], inplace=True)"
   ]
  },
  {
   "cell_type": "code",
   "execution_count": 17,
   "id": "c5a48c17-44d4-4526-90c9-e9df6bc9f8f9",
   "metadata": {},
   "outputs": [
    {
     "data": {
      "text/plain": [
       "(5604, 10)"
      ]
     },
     "execution_count": 17,
     "metadata": {},
     "output_type": "execute_result"
    }
   ],
   "source": [
    "udemy_data.shape"
   ]
  },
  {
   "cell_type": "code",
   "execution_count": 18,
   "id": "8497cc20-c26e-421e-9123-be131b6fad6f",
   "metadata": {},
   "outputs": [],
   "source": [
    "coursera_data.drop(columns=['Unnamed: 0'], inplace=True)"
   ]
  },
  {
   "cell_type": "code",
   "execution_count": 19,
   "id": "6a8838e0-4037-4eb7-b00a-19c9b640d42e",
   "metadata": {},
   "outputs": [
    {
     "data": {
      "text/plain": [
       "(690, 10)"
      ]
     },
     "execution_count": 19,
     "metadata": {},
     "output_type": "execute_result"
    }
   ],
   "source": [
    "coursera_data.shape"
   ]
  },
  {
   "cell_type": "code",
   "execution_count": 20,
   "id": "b7cad69d-534c-4539-9489-bbc164ac9e74",
   "metadata": {},
   "outputs": [],
   "source": [
    "merged_df = pd.concat([udemy_data, coursera_data, pluralsight_data], ignore_index=True)"
   ]
  },
  {
   "cell_type": "code",
   "execution_count": 21,
   "id": "653e9b7e-cb9f-4b78-8b9d-69f63d35e939",
   "metadata": {},
   "outputs": [],
   "source": [
    "merged_df.to_csv(\"all_data_courses_merged.csv\", index=False)"
   ]
  },
  {
   "cell_type": "code",
   "execution_count": 23,
   "id": "6bf91f49-f0bf-4540-a0c9-6c1a0821ca2e",
   "metadata": {},
   "outputs": [],
   "source": [
    "import csv\n",
    "\n",
    "# Specify the file path\n",
    "file_path = \"all_data_courses_merged.csv\"\n",
    "\n",
    "# Initialize an empty list to store the rows\n",
    "rows = []\n",
    "\n",
    "# Open the CSV file and read its contents\n",
    "with open(file_path, 'r', encoding='utf-8') as file:\n",
    "    csv_reader = csv.reader(file)\n",
    "    # Iterate over each row in the CSV file\n",
    "    for row in csv_reader:\n",
    "        rows.append(row)\n",
    "\n",
    "# Now, 'rows' contains the parsed data from the CSV file\n"
   ]
  },
  {
   "cell_type": "code",
   "execution_count": 26,
   "id": "30c70660-b970-4d04-ba9f-a0e44b4ae90e",
   "metadata": {},
   "outputs": [
    {
     "data": {
      "text/plain": [
       "6489"
      ]
     },
     "execution_count": 26,
     "metadata": {},
     "output_type": "execute_result"
    }
   ],
   "source": [
    "len(rows)"
   ]
  },
  {
   "cell_type": "code",
   "execution_count": 27,
   "id": "f2586745-6d7e-4f47-b2ed-aadaf375c68b",
   "metadata": {},
   "outputs": [
    {
     "data": {
      "text/plain": [
       "10"
      ]
     },
     "execution_count": 27,
     "metadata": {},
     "output_type": "execute_result"
    }
   ],
   "source": [
    "len(rows[0])"
   ]
  },
  {
   "cell_type": "code",
   "execution_count": null,
   "id": "f3ea3b0e-5c58-40a7-be7c-5f1970f4a2f1",
   "metadata": {},
   "outputs": [],
   "source": []
  }
 ],
 "metadata": {
  "kernelspec": {
   "display_name": "Python 3 (ipykernel)",
   "language": "python",
   "name": "python3"
  },
  "language_info": {
   "codemirror_mode": {
    "name": "ipython",
    "version": 3
   },
   "file_extension": ".py",
   "mimetype": "text/x-python",
   "name": "python",
   "nbconvert_exporter": "python",
   "pygments_lexer": "ipython3",
   "version": "3.11.5"
  }
 },
 "nbformat": 4,
 "nbformat_minor": 5
}
