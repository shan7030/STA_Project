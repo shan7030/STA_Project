{
 "cells": [
  {
   "cell_type": "markdown",
   "id": "78e97247",
   "metadata": {},
   "source": [
    "# Load all courses data"
   ]
  },
  {
   "cell_type": "code",
   "execution_count": 1,
   "id": "9dbc07a1-d024-4817-baeb-266b5852c3ac",
   "metadata": {},
   "outputs": [],
   "source": [
    "import pandas as pd"
   ]
  },
  {
   "cell_type": "code",
   "execution_count": 2,
   "id": "66db61d9-bd6d-4635-a0de-b88dccac0875",
   "metadata": {},
   "outputs": [],
   "source": [
    "# Reading all courses data\n",
    "all_courses_df = pd.read_csv('./all_courses_data.csv')"
   ]
  },
  {
   "cell_type": "code",
   "execution_count": 3,
   "id": "b9704190-b659-4770-8b4e-a56cc169ccd1",
   "metadata": {},
   "outputs": [
    {
     "data": {
      "text/html": [
       "<div>\n",
       "<style scoped>\n",
       "    .dataframe tbody tr th:only-of-type {\n",
       "        vertical-align: middle;\n",
       "    }\n",
       "\n",
       "    .dataframe tbody tr th {\n",
       "        vertical-align: top;\n",
       "    }\n",
       "\n",
       "    .dataframe thead th {\n",
       "        text-align: right;\n",
       "    }\n",
       "</style>\n",
       "<table border=\"1\" class=\"dataframe\">\n",
       "  <thead>\n",
       "    <tr style=\"text-align: right;\">\n",
       "      <th></th>\n",
       "      <th>course_id</th>\n",
       "      <th>course_title</th>\n",
       "      <th>course_url</th>\n",
       "      <th>course_instructor</th>\n",
       "      <th>course_rating</th>\n",
       "      <th>course_duration</th>\n",
       "      <th>course_details</th>\n",
       "      <th>course_level</th>\n",
       "      <th>course_no_of_reviews</th>\n",
       "      <th>course_no_of_enrolled</th>\n",
       "    </tr>\n",
       "  </thead>\n",
       "  <tbody>\n",
       "    <tr>\n",
       "      <th>0</th>\n",
       "      <td>ps_1</td>\n",
       "      <td>Web Development: Executive Briefing</td>\n",
       "      <td>https://www.pluralsight.com/courses/web-develo...</td>\n",
       "      <td>Brice Wilson</td>\n",
       "      <td>4.6</td>\n",
       "      <td>0.500556</td>\n",
       "      <td>Tech leaders need a fundamental understanding ...</td>\n",
       "      <td>1</td>\n",
       "      <td>158.0</td>\n",
       "      <td>NaN</td>\n",
       "    </tr>\n",
       "    <tr>\n",
       "      <th>1</th>\n",
       "      <td>ps_2</td>\n",
       "      <td>Front End Web Development: Get Started</td>\n",
       "      <td>https://www.pluralsight.com/courses/front-end-...</td>\n",
       "      <td>Joe Eames</td>\n",
       "      <td>4.6</td>\n",
       "      <td>3.799167</td>\n",
       "      <td>Front end web development involves many differ...</td>\n",
       "      <td>1</td>\n",
       "      <td>1250.0</td>\n",
       "      <td>NaN</td>\n",
       "    </tr>\n",
       "    <tr>\n",
       "      <th>2</th>\n",
       "      <td>ps_3</td>\n",
       "      <td>Beyond ASP.NET MVC: Modern Web Development Dem...</td>\n",
       "      <td>https://www.pluralsight.com/courses/beyond-asp...</td>\n",
       "      <td>Chris Jones</td>\n",
       "      <td>4.6</td>\n",
       "      <td>1.842500</td>\n",
       "      <td>The web development landscape is constantly ch...</td>\n",
       "      <td>1</td>\n",
       "      <td>75.0</td>\n",
       "      <td>NaN</td>\n",
       "    </tr>\n",
       "    <tr>\n",
       "      <th>3</th>\n",
       "      <td>ps_4</td>\n",
       "      <td>Tactics and Tools for Troubleshooting Front-en...</td>\n",
       "      <td>https://www.pluralsight.com/courses/tactics-to...</td>\n",
       "      <td>Shelley Benhoff</td>\n",
       "      <td>3.7</td>\n",
       "      <td>1.625833</td>\n",
       "      <td>At the core of any fully responsive website is...</td>\n",
       "      <td>2</td>\n",
       "      <td>54.0</td>\n",
       "      <td>NaN</td>\n",
       "    </tr>\n",
       "    <tr>\n",
       "      <th>4</th>\n",
       "      <td>ps_5</td>\n",
       "      <td>Developing Web Applications and Web APIs Prote...</td>\n",
       "      <td>https://www.pluralsight.com/courses/developing...</td>\n",
       "      <td>Sahil Malik</td>\n",
       "      <td>4.1</td>\n",
       "      <td>2.447222</td>\n",
       "      <td>A large percentage of applications are accesse...</td>\n",
       "      <td>2</td>\n",
       "      <td>59.0</td>\n",
       "      <td>NaN</td>\n",
       "    </tr>\n",
       "  </tbody>\n",
       "</table>\n",
       "</div>"
      ],
      "text/plain": [
       "  course_id                                       course_title  \\\n",
       "0      ps_1                Web Development: Executive Briefing   \n",
       "1      ps_2             Front End Web Development: Get Started   \n",
       "2      ps_3  Beyond ASP.NET MVC: Modern Web Development Dem...   \n",
       "3      ps_4  Tactics and Tools for Troubleshooting Front-en...   \n",
       "4      ps_5  Developing Web Applications and Web APIs Prote...   \n",
       "\n",
       "                                          course_url course_instructor  \\\n",
       "0  https://www.pluralsight.com/courses/web-develo...      Brice Wilson   \n",
       "1  https://www.pluralsight.com/courses/front-end-...         Joe Eames   \n",
       "2  https://www.pluralsight.com/courses/beyond-asp...       Chris Jones   \n",
       "3  https://www.pluralsight.com/courses/tactics-to...   Shelley Benhoff   \n",
       "4  https://www.pluralsight.com/courses/developing...       Sahil Malik   \n",
       "\n",
       "   course_rating  course_duration  \\\n",
       "0            4.6         0.500556   \n",
       "1            4.6         3.799167   \n",
       "2            4.6         1.842500   \n",
       "3            3.7         1.625833   \n",
       "4            4.1         2.447222   \n",
       "\n",
       "                                      course_details  course_level  \\\n",
       "0  Tech leaders need a fundamental understanding ...             1   \n",
       "1  Front end web development involves many differ...             1   \n",
       "2  The web development landscape is constantly ch...             1   \n",
       "3  At the core of any fully responsive website is...             2   \n",
       "4  A large percentage of applications are accesse...             2   \n",
       "\n",
       "   course_no_of_reviews  course_no_of_enrolled  \n",
       "0                 158.0                    NaN  \n",
       "1                1250.0                    NaN  \n",
       "2                  75.0                    NaN  \n",
       "3                  54.0                    NaN  \n",
       "4                  59.0                    NaN  "
      ]
     },
     "execution_count": 3,
     "metadata": {},
     "output_type": "execute_result"
    }
   ],
   "source": [
    "all_courses_df.head()"
   ]
  },
  {
   "cell_type": "markdown",
   "id": "1a386c87",
   "metadata": {},
   "source": [
    "# Pre-processing of text features"
   ]
  },
  {
   "cell_type": "code",
   "execution_count": 4,
   "id": "8ad6be20-a297-4a5c-9d70-d49899c7e3c7",
   "metadata": {},
   "outputs": [],
   "source": [
    "import re\n",
    "import nltk\n",
    "from nltk.corpus import stopwords\n",
    "from nltk.stem import PorterStemmer, WordNetLemmatizer"
   ]
  },
  {
   "cell_type": "code",
   "execution_count": 5,
   "id": "32f7c344",
   "metadata": {},
   "outputs": [
    {
     "name": "stderr",
     "output_type": "stream",
     "text": [
      "[nltk_data] Downloading package wordnet to\n",
      "[nltk_data]     /Users/shantanujoshi/nltk_data...\n",
      "[nltk_data]   Package wordnet is already up-to-date!\n",
      "[nltk_data] Downloading package punkt to\n",
      "[nltk_data]     /Users/shantanujoshi/nltk_data...\n",
      "[nltk_data]   Package punkt is already up-to-date!\n",
      "[nltk_data] Downloading package stopwords to\n",
      "[nltk_data]     /Users/shantanujoshi/nltk_data...\n",
      "[nltk_data]   Package stopwords is already up-to-date!\n"
     ]
    },
    {
     "data": {
      "text/plain": [
       "True"
      ]
     },
     "execution_count": 5,
     "metadata": {},
     "output_type": "execute_result"
    }
   ],
   "source": [
    "nltk.download('wordnet')\n",
    "nltk.download('punkt')\n",
    "nltk.download('stopwords')"
   ]
  },
  {
   "cell_type": "code",
   "execution_count": 6,
   "id": "8ee20b55-dee3-4deb-bf7f-7f675cbe6f66",
   "metadata": {},
   "outputs": [],
   "source": [
    "concatenated_course_data_copy = all_courses_df.copy()"
   ]
  },
  {
   "cell_type": "code",
   "execution_count": 7,
   "id": "0d57941c-2bfa-4b88-9106-cad2fa6108e6",
   "metadata": {},
   "outputs": [],
   "source": [
    "# Removing non-ascii characters\n",
    "concatenated_course_data_copy = concatenated_course_data_copy[concatenated_course_data_copy['course_title'].apply(lambda x: all(ord(char) < 128 for char in x))]"
   ]
  },
  {
   "cell_type": "code",
   "execution_count": 8,
   "id": "9d341972-8e9b-4260-a3ad-43079201356b",
   "metadata": {},
   "outputs": [],
   "source": [
    "concatenated_course_data_copy.reset_index(drop=True, inplace=True) "
   ]
  },
  {
   "cell_type": "code",
   "execution_count": 9,
   "id": "4f4a2a66-c818-4b92-8d2d-22d72ae273c6",
   "metadata": {},
   "outputs": [
    {
     "data": {
      "text/plain": [
       "6343"
      ]
     },
     "execution_count": 9,
     "metadata": {},
     "output_type": "execute_result"
    }
   ],
   "source": [
    "len(concatenated_course_data_copy)"
   ]
  },
  {
   "cell_type": "code",
   "execution_count": 10,
   "id": "4a59d672-07f6-4cdd-9eaf-0a0d0d34f1c4",
   "metadata": {},
   "outputs": [],
   "source": [
    "# Define text preprocessing function\n",
    "def preprocess_text(text):\n",
    "    \n",
    "    # for words like next.js react.js\n",
    "    text = re.sub(r'\\w+\\.\\w+', lambda x: x.group().replace('.', ''), text)\n",
    "    \n",
    "    # Remove non-alphabetic characters and lowercase the text\n",
    "    text = re.sub(r'[^a-zA-Z]', ' ', text).lower().replace('\\r\\n', '')\n",
    "    \n",
    "    # Tokenize the text\n",
    "    tokens = nltk.word_tokenize(text)\n",
    "    \n",
    "    # Initialize stemmer and lemmatizer\n",
    "    stemmer = PorterStemmer()\n",
    "    lemmatizer = WordNetLemmatizer()\n",
    "    \n",
    "    # Remove stopwords, perform stemming, and lemmatization\n",
    "    stop_words = set(stopwords.words('english'))\n",
    "    \n",
    "    # stopwrods in the context of web development\n",
    "    custom_stopwords = {'learn', 'course', 'sure', 'finally', 'understand', 'also', 'like', 'take', 'get', 'need', \n",
    "                        'know', 'go', 'start', 'use', 'create'}\n",
    "    stop_words.update(custom_stopwords)\n",
    "    \n",
    "    # Using both stemmer and lemmatizer as some words like explore won't work correctly for lemmatizer but works well for stemmer and vice-versa\n",
    "    tokens = [stemmer.stem(lemmatizer.lemmatize(word)) for word in tokens if word not in stop_words]\n",
    "    \n",
    "    # Join the tokens back into a single string\n",
    "    preprocessed_text = ' '.join(tokens)\n",
    "    \n",
    "    return preprocessed_text"
   ]
  },
  {
   "cell_type": "code",
   "execution_count": 11,
   "id": "daef4006",
   "metadata": {},
   "outputs": [],
   "source": [
    "# Apply text preprocessing to the 'course_title' column\n",
    "concatenated_course_data_copy['title_preprocessed'] = concatenated_course_data_copy['course_title'].apply(preprocess_text)"
   ]
  },
  {
   "cell_type": "code",
   "execution_count": 12,
   "id": "30d001ce",
   "metadata": {},
   "outputs": [],
   "source": [
    "# Apply text preprocessing to the 'course_details' column alone\n",
    "concatenated_course_data_copy['details_preprocessed'] = concatenated_course_data_copy['course_details'].apply(preprocess_text)"
   ]
  },
  {
   "cell_type": "code",
   "execution_count": 13,
   "id": "8de60f5c",
   "metadata": {},
   "outputs": [],
   "source": [
    "level_counts = concatenated_course_data_copy['course_level'].value_counts()\n",
    "\n",
    "\n",
    "def calc_freq(level):\n",
    "    \n",
    "    return (level_counts[level]/len(concatenated_course_data_copy))\n",
    "    \n",
    "\n",
    "concatenated_course_data_copy['course_level_freq'] = concatenated_course_data_copy['course_level'].apply(calc_freq)"
   ]
  },
  {
   "cell_type": "code",
   "execution_count": 14,
   "id": "499ccd3f-301e-45a1-a93d-dadc04d136cc",
   "metadata": {},
   "outputs": [
    {
     "data": {
      "text/html": [
       "<div>\n",
       "<style scoped>\n",
       "    .dataframe tbody tr th:only-of-type {\n",
       "        vertical-align: middle;\n",
       "    }\n",
       "\n",
       "    .dataframe tbody tr th {\n",
       "        vertical-align: top;\n",
       "    }\n",
       "\n",
       "    .dataframe thead th {\n",
       "        text-align: right;\n",
       "    }\n",
       "</style>\n",
       "<table border=\"1\" class=\"dataframe\">\n",
       "  <thead>\n",
       "    <tr style=\"text-align: right;\">\n",
       "      <th></th>\n",
       "      <th>course_id</th>\n",
       "      <th>course_title</th>\n",
       "      <th>course_url</th>\n",
       "      <th>course_instructor</th>\n",
       "      <th>course_rating</th>\n",
       "      <th>course_duration</th>\n",
       "      <th>course_details</th>\n",
       "      <th>course_level</th>\n",
       "      <th>course_no_of_reviews</th>\n",
       "      <th>course_no_of_enrolled</th>\n",
       "      <th>title_preprocessed</th>\n",
       "      <th>details_preprocessed</th>\n",
       "      <th>course_level_freq</th>\n",
       "    </tr>\n",
       "  </thead>\n",
       "  <tbody>\n",
       "    <tr>\n",
       "      <th>0</th>\n",
       "      <td>ps_1</td>\n",
       "      <td>Web Development: Executive Briefing</td>\n",
       "      <td>https://www.pluralsight.com/courses/web-develo...</td>\n",
       "      <td>Brice Wilson</td>\n",
       "      <td>4.6</td>\n",
       "      <td>0.500556</td>\n",
       "      <td>Tech leaders need a fundamental understanding ...</td>\n",
       "      <td>1</td>\n",
       "      <td>158.0</td>\n",
       "      <td>NaN</td>\n",
       "      <td>web develop execut brief</td>\n",
       "      <td>tech leader fundament understand tool technolo...</td>\n",
       "      <td>0.345420</td>\n",
       "    </tr>\n",
       "    <tr>\n",
       "      <th>1</th>\n",
       "      <td>ps_2</td>\n",
       "      <td>Front End Web Development: Get Started</td>\n",
       "      <td>https://www.pluralsight.com/courses/front-end-...</td>\n",
       "      <td>Joe Eames</td>\n",
       "      <td>4.6</td>\n",
       "      <td>3.799167</td>\n",
       "      <td>Front end web development involves many differ...</td>\n",
       "      <td>1</td>\n",
       "      <td>1250.0</td>\n",
       "      <td>NaN</td>\n",
       "      <td>front end web develop start</td>\n",
       "      <td>front end web develop involv mani differ techn...</td>\n",
       "      <td>0.345420</td>\n",
       "    </tr>\n",
       "    <tr>\n",
       "      <th>2</th>\n",
       "      <td>ps_3</td>\n",
       "      <td>Beyond ASP.NET MVC: Modern Web Development Dem...</td>\n",
       "      <td>https://www.pluralsight.com/courses/beyond-asp...</td>\n",
       "      <td>Chris Jones</td>\n",
       "      <td>4.6</td>\n",
       "      <td>1.842500</td>\n",
       "      <td>The web development landscape is constantly ch...</td>\n",
       "      <td>1</td>\n",
       "      <td>75.0</td>\n",
       "      <td>NaN</td>\n",
       "      <td>beyond aspnet mvc modern web develop demystifi</td>\n",
       "      <td>web develop landscap constantli chang hard kee...</td>\n",
       "      <td>0.345420</td>\n",
       "    </tr>\n",
       "    <tr>\n",
       "      <th>3</th>\n",
       "      <td>ps_4</td>\n",
       "      <td>Tactics and Tools for Troubleshooting Front-en...</td>\n",
       "      <td>https://www.pluralsight.com/courses/tactics-to...</td>\n",
       "      <td>Shelley Benhoff</td>\n",
       "      <td>3.7</td>\n",
       "      <td>1.625833</td>\n",
       "      <td>At the core of any fully responsive website is...</td>\n",
       "      <td>2</td>\n",
       "      <td>54.0</td>\n",
       "      <td>NaN</td>\n",
       "      <td>tactic tool troubleshoot front end web develop</td>\n",
       "      <td>core fulli respons websit thorough knowledg tr...</td>\n",
       "      <td>0.177676</td>\n",
       "    </tr>\n",
       "    <tr>\n",
       "      <th>4</th>\n",
       "      <td>ps_5</td>\n",
       "      <td>Developing Web Applications and Web APIs Prote...</td>\n",
       "      <td>https://www.pluralsight.com/courses/developing...</td>\n",
       "      <td>Sahil Malik</td>\n",
       "      <td>4.1</td>\n",
       "      <td>2.447222</td>\n",
       "      <td>A large percentage of applications are accesse...</td>\n",
       "      <td>2</td>\n",
       "      <td>59.0</td>\n",
       "      <td>NaN</td>\n",
       "      <td>develop web applic web api protect azur activ ...</td>\n",
       "      <td>larg percentag applic access via browser rest ...</td>\n",
       "      <td>0.177676</td>\n",
       "    </tr>\n",
       "  </tbody>\n",
       "</table>\n",
       "</div>"
      ],
      "text/plain": [
       "  course_id                                       course_title  \\\n",
       "0      ps_1                Web Development: Executive Briefing   \n",
       "1      ps_2             Front End Web Development: Get Started   \n",
       "2      ps_3  Beyond ASP.NET MVC: Modern Web Development Dem...   \n",
       "3      ps_4  Tactics and Tools for Troubleshooting Front-en...   \n",
       "4      ps_5  Developing Web Applications and Web APIs Prote...   \n",
       "\n",
       "                                          course_url course_instructor  \\\n",
       "0  https://www.pluralsight.com/courses/web-develo...      Brice Wilson   \n",
       "1  https://www.pluralsight.com/courses/front-end-...         Joe Eames   \n",
       "2  https://www.pluralsight.com/courses/beyond-asp...       Chris Jones   \n",
       "3  https://www.pluralsight.com/courses/tactics-to...   Shelley Benhoff   \n",
       "4  https://www.pluralsight.com/courses/developing...       Sahil Malik   \n",
       "\n",
       "   course_rating  course_duration  \\\n",
       "0            4.6         0.500556   \n",
       "1            4.6         3.799167   \n",
       "2            4.6         1.842500   \n",
       "3            3.7         1.625833   \n",
       "4            4.1         2.447222   \n",
       "\n",
       "                                      course_details  course_level  \\\n",
       "0  Tech leaders need a fundamental understanding ...             1   \n",
       "1  Front end web development involves many differ...             1   \n",
       "2  The web development landscape is constantly ch...             1   \n",
       "3  At the core of any fully responsive website is...             2   \n",
       "4  A large percentage of applications are accesse...             2   \n",
       "\n",
       "   course_no_of_reviews  course_no_of_enrolled  \\\n",
       "0                 158.0                    NaN   \n",
       "1                1250.0                    NaN   \n",
       "2                  75.0                    NaN   \n",
       "3                  54.0                    NaN   \n",
       "4                  59.0                    NaN   \n",
       "\n",
       "                                  title_preprocessed  \\\n",
       "0                           web develop execut brief   \n",
       "1                        front end web develop start   \n",
       "2     beyond aspnet mvc modern web develop demystifi   \n",
       "3     tactic tool troubleshoot front end web develop   \n",
       "4  develop web applic web api protect azur activ ...   \n",
       "\n",
       "                                details_preprocessed  course_level_freq  \n",
       "0  tech leader fundament understand tool technolo...           0.345420  \n",
       "1  front end web develop involv mani differ techn...           0.345420  \n",
       "2  web develop landscap constantli chang hard kee...           0.345420  \n",
       "3  core fulli respons websit thorough knowledg tr...           0.177676  \n",
       "4  larg percentag applic access via browser rest ...           0.177676  "
      ]
     },
     "execution_count": 14,
     "metadata": {},
     "output_type": "execute_result"
    }
   ],
   "source": [
    "concatenated_course_data_copy.head()"
   ]
  },
  {
   "cell_type": "markdown",
   "id": "d8d4185f",
   "metadata": {},
   "source": [
    "# Use text vectorizers to form feature matrix\n",
    "### ( Calculate cosine similarity for these features )"
   ]
  },
  {
   "cell_type": "code",
   "execution_count": 18,
   "id": "7a695e25-2598-4e38-8243-5df050070da4",
   "metadata": {},
   "outputs": [],
   "source": [
    "from sklearn.feature_extraction.text import TfidfVectorizer, CountVectorizer\n",
    "from sklearn.metrics.pairwise import cosine_similarity\n",
    "from scipy.sparse import csr_matrix, hstack\n",
    "import numpy as np"
   ]
  },
  {
   "cell_type": "code",
   "execution_count": 19,
   "id": "24c98d13",
   "metadata": {},
   "outputs": [],
   "source": [
    "# Separate Vectorizers for different features\n",
    "tfidf_vectorizer_title = TfidfVectorizer()\n",
    "tfidf_vectorizer_title_bigrams = TfidfVectorizer(ngram_range = (2,2), min_df = 2)  # only bigrams occurring in at least two courses\n",
    "tfidf_vectorizer_details = TfidfVectorizer()\n",
    "\n",
    "# calculate TF-IDF matrices for each feature set\n",
    "tfidf_title_matrix = tfidf_vectorizer_title.fit_transform(concatenated_course_data_copy['title_preprocessed'])\n",
    "tfidf_title_bigrams_matrix = tfidf_vectorizer_title_bigrams.fit_transform(concatenated_course_data_copy['title_preprocessed'])\n",
    "tfidf_details_matrix = tfidf_vectorizer_details.fit_transform(concatenated_course_data_copy['details_preprocessed'])\n",
    "\n",
    "# Give extra weightage to title features\n",
    "tfidf_title_matrix_weighted = tfidf_title_matrix * 1.25\n",
    "tfidf_title_bigrams_matrix_weighted = tfidf_title_bigrams_matrix * 1.75\n",
    "\n",
    "# Also add course_level as a feature\n",
    "course_level_matrix = csr_matrix(np.array(concatenated_course_data_copy['course_level_freq']).reshape(-1, 1))\n",
    "\n",
    "# Combine all features into a single feature matrix\n",
    "concatenated_tfidf_matrix = hstack((tfidf_title_matrix_weighted, tfidf_title_bigrams_matrix_weighted, tfidf_details_matrix, course_level_matrix))\n",
    "\n",
    "# calculate pair-wise cosine similarity\n",
    "cosine_sim_weighted = cosine_similarity(concatenated_tfidf_matrix)"
   ]
  },
  {
   "cell_type": "code",
   "execution_count": 20,
   "id": "f81a2849",
   "metadata": {},
   "outputs": [
    {
     "data": {
      "text/plain": [
       "(6343, 16043)"
      ]
     },
     "execution_count": 20,
     "metadata": {},
     "output_type": "execute_result"
    }
   ],
   "source": [
    "tfidf_details_matrix.shape"
   ]
  },
  {
   "cell_type": "code",
   "execution_count": 21,
   "id": "00d7ccc6",
   "metadata": {},
   "outputs": [
    {
     "data": {
      "text/plain": [
       "(6343, 21667)"
      ]
     },
     "execution_count": 21,
     "metadata": {},
     "output_type": "execute_result"
    }
   ],
   "source": [
    "concatenated_tfidf_matrix.shape"
   ]
  },
  {
   "cell_type": "markdown",
   "id": "afca62c8",
   "metadata": {},
   "source": [
    "**A total of 21667 features**"
   ]
  },
  {
   "cell_type": "code",
   "execution_count": 22,
   "id": "240aa565-ec4b-40fc-8890-1a6974cd2f01",
   "metadata": {},
   "outputs": [
    {
     "data": {
      "text/plain": [
       "(6343, 6343)"
      ]
     },
     "execution_count": 22,
     "metadata": {},
     "output_type": "execute_result"
    }
   ],
   "source": [
    "cosine_sim_weighted.shape"
   ]
  },
  {
   "cell_type": "markdown",
   "id": "1076ca4b",
   "metadata": {},
   "source": [
    "# Recommendation function"
   ]
  },
  {
   "cell_type": "code",
   "execution_count": 23,
   "id": "fef44f6c-2427-4f67-adc7-e252077a3317",
   "metadata": {},
   "outputs": [],
   "source": [
    "# Function to recommend courses based on cosine similarity\n",
    "def recommend_courses(course_title, cosine_sim_matrix, df, top_n=5):\n",
    "    # Find the index of the course title in the DataFrame\n",
    "    idx = df.index[df['course_title'] == course_title].tolist()[0]\n",
    "    \n",
    "    # Get the cosine similarity scores for the given course\n",
    "    sim_scores = list(enumerate(cosine_sim_matrix[idx]))\n",
    "    \n",
    "    # Sort the courses based on similarity scores\n",
    "    sim_scores = sorted(sim_scores, key=lambda x: x[1], reverse=True)\n",
    "    \n",
    "    # Get the top n similar courses (excluding itself)\n",
    "    top_similar_courses = sim_scores[1:top_n+1]\n",
    "    \n",
    "    # Get the indices of the top similar courses\n",
    "    course_indices = [idx for idx, _ in top_similar_courses]\n",
    "    \n",
    "    # Get the course names corresponding to the indices\n",
    "    recommended_courses = df.iloc[course_indices]\n",
    "    \n",
    "    return recommended_courses"
   ]
  },
  {
   "cell_type": "code",
   "execution_count": 24,
   "id": "aadda8a6-39e3-4758-9ede-9776934aaf39",
   "metadata": {},
   "outputs": [
    {
     "name": "stdout",
     "output_type": "stream",
     "text": [
      "Recommended courses for 'Web Development: Executive Briefing':\n"
     ]
    },
    {
     "data": {
      "text/html": [
       "<div>\n",
       "<style scoped>\n",
       "    .dataframe tbody tr th:only-of-type {\n",
       "        vertical-align: middle;\n",
       "    }\n",
       "\n",
       "    .dataframe tbody tr th {\n",
       "        vertical-align: top;\n",
       "    }\n",
       "\n",
       "    .dataframe thead th {\n",
       "        text-align: right;\n",
       "    }\n",
       "</style>\n",
       "<table border=\"1\" class=\"dataframe\">\n",
       "  <thead>\n",
       "    <tr style=\"text-align: right;\">\n",
       "      <th></th>\n",
       "      <th>course_id</th>\n",
       "      <th>course_title</th>\n",
       "      <th>course_level</th>\n",
       "    </tr>\n",
       "  </thead>\n",
       "  <tbody>\n",
       "    <tr>\n",
       "      <th>216</th>\n",
       "      <td>ce_101067</td>\n",
       "      <td>How to Get Into Web Development</td>\n",
       "      <td>1</td>\n",
       "    </tr>\n",
       "    <tr>\n",
       "      <th>6048</th>\n",
       "      <td>ud_2636020</td>\n",
       "      <td>Web development road map series</td>\n",
       "      <td>1</td>\n",
       "    </tr>\n",
       "    <tr>\n",
       "      <th>1486</th>\n",
       "      <td>ud_1093608</td>\n",
       "      <td>The Most Comprehensive Web Development Course</td>\n",
       "      <td>0</td>\n",
       "    </tr>\n",
       "    <tr>\n",
       "      <th>5713</th>\n",
       "      <td>ud_5490334</td>\n",
       "      <td>Non Technical to a amazing Web Developer</td>\n",
       "      <td>0</td>\n",
       "    </tr>\n",
       "    <tr>\n",
       "      <th>9</th>\n",
       "      <td>ps_10</td>\n",
       "      <td>Web Development with ExpressJS</td>\n",
       "      <td>2</td>\n",
       "    </tr>\n",
       "  </tbody>\n",
       "</table>\n",
       "</div>"
      ],
      "text/plain": [
       "       course_id                                   course_title  course_level\n",
       "216    ce_101067                How to Get Into Web Development             1\n",
       "6048  ud_2636020                Web development road map series             1\n",
       "1486  ud_1093608  The Most Comprehensive Web Development Course             0\n",
       "5713  ud_5490334       Non Technical to a amazing Web Developer             0\n",
       "9          ps_10                 Web Development with ExpressJS             2"
      ]
     },
     "execution_count": 24,
     "metadata": {},
     "output_type": "execute_result"
    }
   ],
   "source": [
    "course_title = 'Web Development: Executive Briefing'\n",
    "recommended_courses = recommend_courses(course_title, cosine_sim_weighted, concatenated_course_data_copy)\n",
    "print(f\"Recommended courses for '{course_title}':\")\n",
    "recommended_courses.head()[['course_id','course_title', 'course_level']]"
   ]
  },
  {
   "cell_type": "code",
   "execution_count": 25,
   "id": "33918b93-46b8-4300-aa05-7449a5e7b20a",
   "metadata": {},
   "outputs": [
    {
     "name": "stdout",
     "output_type": "stream",
     "text": [
      "Recommended courses for 'Front End Web Development: Get Started':\n"
     ]
    },
    {
     "data": {
      "text/html": [
       "<div>\n",
       "<style scoped>\n",
       "    .dataframe tbody tr th:only-of-type {\n",
       "        vertical-align: middle;\n",
       "    }\n",
       "\n",
       "    .dataframe tbody tr th {\n",
       "        vertical-align: top;\n",
       "    }\n",
       "\n",
       "    .dataframe thead th {\n",
       "        text-align: right;\n",
       "    }\n",
       "</style>\n",
       "<table border=\"1\" class=\"dataframe\">\n",
       "  <thead>\n",
       "    <tr style=\"text-align: right;\">\n",
       "      <th></th>\n",
       "      <th>course_id</th>\n",
       "      <th>course_title</th>\n",
       "      <th>course_level</th>\n",
       "    </tr>\n",
       "  </thead>\n",
       "  <tbody>\n",
       "    <tr>\n",
       "      <th>2283</th>\n",
       "      <td>ud_1460662</td>\n",
       "      <td>JavaScript: Learn Front End Web Development</td>\n",
       "      <td>0</td>\n",
       "    </tr>\n",
       "    <tr>\n",
       "      <th>5729</th>\n",
       "      <td>ud_311538</td>\n",
       "      <td>Foundations of Front-End Web Development</td>\n",
       "      <td>1</td>\n",
       "    </tr>\n",
       "    <tr>\n",
       "      <th>195</th>\n",
       "      <td>ce_101046</td>\n",
       "      <td>Getting Started with Front-End and Web Develop...</td>\n",
       "      <td>1</td>\n",
       "    </tr>\n",
       "    <tr>\n",
       "      <th>5182</th>\n",
       "      <td>ud_5404420</td>\n",
       "      <td>Straightforwardy Learn Front-End Web Development</td>\n",
       "      <td>0</td>\n",
       "    </tr>\n",
       "    <tr>\n",
       "      <th>3423</th>\n",
       "      <td>ud_5273224</td>\n",
       "      <td>Front end web development in Rust</td>\n",
       "      <td>2</td>\n",
       "    </tr>\n",
       "  </tbody>\n",
       "</table>\n",
       "</div>"
      ],
      "text/plain": [
       "       course_id                                       course_title  \\\n",
       "2283  ud_1460662        JavaScript: Learn Front End Web Development   \n",
       "5729   ud_311538           Foundations of Front-End Web Development   \n",
       "195    ce_101046  Getting Started with Front-End and Web Develop...   \n",
       "5182  ud_5404420   Straightforwardy Learn Front-End Web Development   \n",
       "3423  ud_5273224                  Front end web development in Rust   \n",
       "\n",
       "      course_level  \n",
       "2283             0  \n",
       "5729             1  \n",
       "195              1  \n",
       "5182             0  \n",
       "3423             2  "
      ]
     },
     "execution_count": 25,
     "metadata": {},
     "output_type": "execute_result"
    }
   ],
   "source": [
    "course_title = 'Front End Web Development: Get Started'\n",
    "recommended_courses = recommend_courses(course_title, cosine_sim_weighted, concatenated_course_data_copy)\n",
    "print(f\"Recommended courses for '{course_title}':\")\n",
    "recommended_courses.head()[['course_id','course_title', 'course_level']]"
   ]
  },
  {
   "cell_type": "code",
   "execution_count": 26,
   "id": "e7c64731-c60c-4e85-8ee5-864d700ef5d3",
   "metadata": {},
   "outputs": [
    {
     "name": "stdout",
     "output_type": "stream",
     "text": [
      "Recommended courses for 'Next.js - Build Full Stack Apps with Next.js & TypeScript':\n"
     ]
    },
    {
     "data": {
      "text/html": [
       "<div>\n",
       "<style scoped>\n",
       "    .dataframe tbody tr th:only-of-type {\n",
       "        vertical-align: middle;\n",
       "    }\n",
       "\n",
       "    .dataframe tbody tr th {\n",
       "        vertical-align: top;\n",
       "    }\n",
       "\n",
       "    .dataframe thead th {\n",
       "        text-align: right;\n",
       "    }\n",
       "</style>\n",
       "<table border=\"1\" class=\"dataframe\">\n",
       "  <thead>\n",
       "    <tr style=\"text-align: right;\">\n",
       "      <th></th>\n",
       "      <th>course_id</th>\n",
       "      <th>course_title</th>\n",
       "      <th>course_level</th>\n",
       "    </tr>\n",
       "  </thead>\n",
       "  <tbody>\n",
       "    <tr>\n",
       "      <th>4897</th>\n",
       "      <td>ud_5413116</td>\n",
       "      <td>MERN Stack vs Next.js , Build A Full-stack App...</td>\n",
       "      <td>1</td>\n",
       "    </tr>\n",
       "    <tr>\n",
       "      <th>5435</th>\n",
       "      <td>ud_5669998</td>\n",
       "      <td>Full Stack Markdown App With Next.js</td>\n",
       "      <td>2</td>\n",
       "    </tr>\n",
       "    <tr>\n",
       "      <th>4036</th>\n",
       "      <td>ud_5484748</td>\n",
       "      <td>Next.js 13 Bootcamp - From Scratch to Full-sta...</td>\n",
       "      <td>1</td>\n",
       "    </tr>\n",
       "    <tr>\n",
       "      <th>2556</th>\n",
       "      <td>ud_5360872</td>\n",
       "      <td>Building a Full-stack Multilingual Blog with N...</td>\n",
       "      <td>0</td>\n",
       "    </tr>\n",
       "    <tr>\n",
       "      <th>5080</th>\n",
       "      <td>ud_4530202</td>\n",
       "      <td>Learn NextJs (App Router) by building a full-s...</td>\n",
       "      <td>0</td>\n",
       "    </tr>\n",
       "  </tbody>\n",
       "</table>\n",
       "</div>"
      ],
      "text/plain": [
       "       course_id                                       course_title  \\\n",
       "4897  ud_5413116  MERN Stack vs Next.js , Build A Full-stack App...   \n",
       "5435  ud_5669998               Full Stack Markdown App With Next.js   \n",
       "4036  ud_5484748  Next.js 13 Bootcamp - From Scratch to Full-sta...   \n",
       "2556  ud_5360872  Building a Full-stack Multilingual Blog with N...   \n",
       "5080  ud_4530202  Learn NextJs (App Router) by building a full-s...   \n",
       "\n",
       "      course_level  \n",
       "4897             1  \n",
       "5435             2  \n",
       "4036             1  \n",
       "2556             0  \n",
       "5080             0  "
      ]
     },
     "execution_count": 26,
     "metadata": {},
     "output_type": "execute_result"
    }
   ],
   "source": [
    "course_title = 'Next.js - Build Full Stack Apps with Next.js & TypeScript'\n",
    "recommended_courses = recommend_courses(course_title, cosine_sim_weighted, concatenated_course_data_copy)\n",
    "print(f\"Recommended courses for '{course_title}':\")\n",
    "recommended_courses.head()[['course_id','course_title', 'course_level']]"
   ]
  },
  {
   "cell_type": "code",
   "execution_count": 29,
   "id": "39723cf3-2a18-49f0-bc71-fc228dfeb20d",
   "metadata": {},
   "outputs": [],
   "source": [
    "# Code to convert the similarity weights to pickle file which will be used by backend\n",
    "#import pickle\n",
    "#pickle.dump(cosine_sim_weighted ,open('tf_idf_cosine_similarity.pkl','wb'))"
   ]
  }
 ],
 "metadata": {
  "kernelspec": {
   "display_name": "Python 3 (ipykernel)",
   "language": "python",
   "name": "python3"
  },
  "language_info": {
   "codemirror_mode": {
    "name": "ipython",
    "version": 3
   },
   "file_extension": ".py",
   "mimetype": "text/x-python",
   "name": "python",
   "nbconvert_exporter": "python",
   "pygments_lexer": "ipython3",
   "version": "3.11.5"
  }
 },
 "nbformat": 4,
 "nbformat_minor": 5
}
