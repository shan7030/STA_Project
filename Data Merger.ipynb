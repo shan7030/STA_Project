{
 "cells": [
  {
   "cell_type": "code",
   "execution_count": 1,
   "id": "f4589c02",
   "metadata": {},
   "outputs": [],
   "source": [
    "import pandas as pd"
   ]
  },
  {
   "cell_type": "markdown",
   "id": "130385d1-cdae-4c18-92c4-a96f88f9a097",
   "metadata": {},
   "source": [
    "## 1. Read Courses information for Udemy"
   ]
  },
  {
   "cell_type": "code",
   "execution_count": 2,
   "id": "9a5d2399",
   "metadata": {},
   "outputs": [],
   "source": [
    "# Reading the Udemy Data\n",
    "udemy_data = pd.read_csv('./Udemy/udemy_course_all_info.csv')\n",
    "udemy_data = udemy_data.drop_duplicates(subset=['course_id'])"
   ]
  },
  {
   "cell_type": "markdown",
   "id": "8cbcf4c9-ab0b-44d6-a2bb-8cb8a63697b0",
   "metadata": {},
   "source": [
    "## 2. Read Courses information for Coursera"
   ]
  },
  {
   "cell_type": "code",
   "execution_count": 3,
   "id": "13fc5a87",
   "metadata": {},
   "outputs": [],
   "source": [
    "# Read the coursera data\n",
    "coursera_data = pd.read_csv('Coursera/coursera_course_all_info.csv')\n",
    "coursera_data = coursera_data.drop_duplicates(subset=['course_id'])"
   ]
  },
  {
   "cell_type": "markdown",
   "id": "ed52b427-9e99-4334-9743-c2247d59d4bb",
   "metadata": {},
   "source": [
    "## 3. Read Courses information for PluralSight"
   ]
  },
  {
   "cell_type": "code",
   "execution_count": 4,
   "id": "a1790ff5",
   "metadata": {},
   "outputs": [],
   "source": [
    "# Read the Pluralsight data\n",
    "pluralsight_data = pd.read_csv('PluralSight/pluralsight_course_all_info.csv')\n",
    "pluralsight_data = pluralsight_data.drop_duplicates(subset=['course_id'])"
   ]
  },
  {
   "cell_type": "code",
   "execution_count": 5,
   "id": "b545c705",
   "metadata": {},
   "outputs": [],
   "source": [
    "coursera_data.drop(columns=['Unnamed: 0'], inplace=True)\n",
    "udemy_data.drop(columns=['Unnamed: 0'], inplace=True)"
   ]
  },
  {
   "cell_type": "markdown",
   "id": "d8bc8ec8-1a26-415b-9e8c-c7516ebd8731",
   "metadata": {},
   "source": [
    "## Merge data and Save to CSV"
   ]
  },
  {
   "cell_type": "code",
   "execution_count": 6,
   "id": "3303a86b",
   "metadata": {},
   "outputs": [],
   "source": [
    "concatenated_course_data = pd.concat([pluralsight_data, coursera_data, udemy_data], ignore_index=True)"
   ]
  },
  {
   "cell_type": "code",
   "execution_count": 7,
   "id": "2578f021",
   "metadata": {},
   "outputs": [],
   "source": [
    "concatenated_course_data.to_csv(\"all_courses_data.csv\", index=False)"
   ]
  }
 ],
 "metadata": {
  "kernelspec": {
   "display_name": "Python 3 (ipykernel)",
   "language": "python",
   "name": "python3"
  },
  "language_info": {
   "codemirror_mode": {
    "name": "ipython",
    "version": 3
   },
   "file_extension": ".py",
   "mimetype": "text/x-python",
   "name": "python",
   "nbconvert_exporter": "python",
   "pygments_lexer": "ipython3",
   "version": "3.11.5"
  }
 },
 "nbformat": 4,
 "nbformat_minor": 5
}
