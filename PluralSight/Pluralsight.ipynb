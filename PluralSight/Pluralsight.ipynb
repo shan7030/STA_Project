{
 "cells": [
  {
   "cell_type": "code",
   "execution_count": 81,
   "id": "da9d09c4-464c-4029-899f-d356455126d4",
   "metadata": {},
   "outputs": [],
   "source": [
    "import requests\n",
    "import lxml.html as lx\n",
    "import time\n",
    "\n",
    "import pandas as pd"
   ]
  },
  {
   "cell_type": "markdown",
   "id": "b7946333-1d77-4273-b42b-21f248f527bc",
   "metadata": {},
   "source": [
    "## Generic Function to perform HTTP Reuqest"
   ]
  },
  {
   "cell_type": "code",
   "execution_count": 77,
   "id": "efcd4bba-955b-41f9-9339-784625598d20",
   "metadata": {},
   "outputs": [],
   "source": [
    "# make a get request on session object and return response\n",
    "def get_http_response( url, params = {} ):\n",
    "\n",
    "  time.sleep(0.1)\n",
    "\n",
    "  try:\n",
    "    # get request\n",
    "    response = requests.get( url, params )\n",
    "    response.raise_for_status()\n",
    "\n",
    "  # handle exceptions\n",
    "  except requests.exceptions.HTTPError as e:\n",
    "    print(\"Too many requests!!\")\n",
    "    print(e)\n",
    "    return None\n",
    "\n",
    "  except requests.exceptions.URLRequired as e:\n",
    "    print(\"Invalid URL: Server could not be found for the given url\")\n",
    "    return None\n",
    "\n",
    "  else:\n",
    "    # return the response if no exceptions\n",
    "    return response"
   ]
  },
  {
   "cell_type": "markdown",
   "id": "1646dffb-1551-458f-a05b-cd18fe93c5db",
   "metadata": {},
   "source": [
    "## Function to fetch the details from PluralSight using API"
   ]
  },
  {
   "cell_type": "code",
   "execution_count": 78,
   "id": "f6b7b5cb-76bb-4844-a7d8-80c86254ccf2",
   "metadata": {},
   "outputs": [],
   "source": [
    "API_URL = 'https://api-us1.cludo.com/api/v3/10000847/10001278/search'\n",
    "auth_key = \"MTAwMDA4NDc6MTAwMDEyNzg6U2VhcmNoS2V5\""
   ]
  },
  {
   "cell_type": "code",
   "execution_count": 79,
   "id": "1d1cc93d-d55f-482f-901a-a20bfbca7f27",
   "metadata": {},
   "outputs": [],
   "source": [
    "all_courses_responses = []\n",
    "\n",
    "def fetch_pluralsight_course_data(url, page_index):\n",
    "    global all_courses_responses\n",
    "\n",
    "    headers = {\n",
    "        'authorization': f'SiteKey {auth_key}'\n",
    "    }\n",
    "    \n",
    "    data = {\n",
    "        \"ResponseType\": \"json\",\n",
    "        \"query\": \"web development\",\n",
    "        \"enableFacetFiltering\": \"true\",\n",
    "        \"facets\": {\n",
    "            \"categories\": [\"course\", \"labs\"]\n",
    "        },\n",
    "        \"page\": page_index,\n",
    "        \"perPage\": 18,\n",
    "        \"operator\": \"and\"\n",
    "    }\n",
    "    time.sleep(0.5)\n",
    "    response = requests.post(url, headers=headers, json=data)\n",
    "    \n",
    "    pluralsight_response = response.json()['TypedDocuments'] # or do something else with the response\n",
    "    all_courses_responses.extend(pluralsight_response)\n",
    "\n",
    "    if page_index<=10:\n",
    "        fetch_pluralsight_course_data(url, page_index+1)"
   ]
  },
  {
   "cell_type": "code",
   "execution_count": 80,
   "id": "e59ef076-4f3b-4d2d-92d3-0c906ee0c348",
   "metadata": {},
   "outputs": [],
   "source": [
    "fetch_pluralsight_course_data(API_URL, 1)"
   ]
  },
  {
   "cell_type": "code",
   "execution_count": 125,
   "id": "aacee1e4-76e7-4c1a-b95e-5db9ed2d6d8f",
   "metadata": {},
   "outputs": [],
   "source": [
    "columns_all = ['course_id', 'course_title', 'course_url', 'course_instructor', 'course_rating', \n",
    "               'course_duration', 'course_details','course_level', 'course_no_of_reviews','course_no_of_enrolled']\n",
    "complete_course_details_df_all = pd.DataFrame(columns=columns_all)"
   ]
  },
  {
   "cell_type": "code",
   "execution_count": 126,
   "id": "474343a6-ff33-499f-a1c4-7c1fa7e7f4de",
   "metadata": {},
   "outputs": [
    {
     "data": {
      "text/html": [
       "<div>\n",
       "<style scoped>\n",
       "    .dataframe tbody tr th:only-of-type {\n",
       "        vertical-align: middle;\n",
       "    }\n",
       "\n",
       "    .dataframe tbody tr th {\n",
       "        vertical-align: top;\n",
       "    }\n",
       "\n",
       "    .dataframe thead th {\n",
       "        text-align: right;\n",
       "    }\n",
       "</style>\n",
       "<table border=\"1\" class=\"dataframe\">\n",
       "  <thead>\n",
       "    <tr style=\"text-align: right;\">\n",
       "      <th></th>\n",
       "      <th>course_id</th>\n",
       "      <th>course_title</th>\n",
       "      <th>course_url</th>\n",
       "      <th>course_instructor</th>\n",
       "      <th>course_rating</th>\n",
       "      <th>course_duration</th>\n",
       "      <th>course_details</th>\n",
       "      <th>course_level</th>\n",
       "      <th>course_no_of_reviews</th>\n",
       "      <th>course_no_of_enrolled</th>\n",
       "    </tr>\n",
       "  </thead>\n",
       "  <tbody>\n",
       "  </tbody>\n",
       "</table>\n",
       "</div>"
      ],
      "text/plain": [
       "Empty DataFrame\n",
       "Columns: [course_id, course_title, course_url, course_instructor, course_rating, course_duration, course_details, course_level, course_no_of_reviews, course_no_of_enrolled]\n",
       "Index: []"
      ]
     },
     "execution_count": 126,
     "metadata": {},
     "output_type": "execute_result"
    }
   ],
   "source": [
    "complete_course_details_df_all"
   ]
  },
  {
   "cell_type": "markdown",
   "id": "ac49515e-0f02-43e9-b961-52fe5997cbe7",
   "metadata": {},
   "source": [
    "- course_id (ud:udemy, ce:coursera, ps: PluralSight)\n",
    "- course_title\n",
    "- course_url\n",
    "- course_instructor\n",
    "- course_rating (out of 5)\n",
    "- course_duration (In hrs)\n",
    "- course_details (description + learning objectives)\n",
    "- course_level (All: 0, Beginner: 1, Intermediate: 2, Advanced: 3)\n",
    "- course_no_of_reviews\n",
    "- course_no_of_enrolled"
   ]
  },
  {
   "cell_type": "code",
   "execution_count": 127,
   "id": "3d6006d5-dd82-4f1e-a6ff-a2c9cf5ec0a3",
   "metadata": {},
   "outputs": [],
   "source": [
    "index  = 0\n",
    "for plural_sight_response_item in all_courses_responses: \n",
    "\n",
    "    course_id = 'ud_'+str(index)\n",
    "    course_title = \"\"\n",
    "    course_instructor = \"\"\n",
    "    course_url = \"\"\n",
    "    course_rating = \"\"\n",
    "    course_no_of_reviews = \"\"\n",
    "    course_duration = \"\"\n",
    "    course_details = \"\"\n",
    "    course_level = \"\"\n",
    "    course_no_of_enrolled = \"\"\n",
    "\n",
    "    if 'Fields' in plural_sight_response_item:\n",
    "        if 'Title' in plural_sight_response_item['Fields']:\n",
    "            course_title = plural_sight_response_item['Fields']['Title']['Value']\n",
    "\n",
    "        if 'authors' in plural_sight_response_item['Fields']:\n",
    "            course_instructor = plural_sight_response_item['Fields']['authors']['Value']\n",
    "\n",
    "        if 'rating-count' in plural_sight_response_item['Fields']:\n",
    "            course_no_of_reviews = plural_sight_response_item['Fields']['rating-count']['Value']\n",
    "\n",
    "        if 'rating' in plural_sight_response_item['Fields']:\n",
    "            course_rating = plural_sight_response_item['Fields']['rating']['Value']\n",
    "            \n",
    "        if 'duration' in plural_sight_response_item['Fields']:\n",
    "            course_duration = plural_sight_response_item['Fields']['duration']['Value']\n",
    "\n",
    "        if 'Skill Levels' in plural_sight_response_item['Fields']:\n",
    "            course_level = plural_sight_response_item['Fields']['Skill Levels']['Value']\n",
    "\n",
    "        if 'Id' in plural_sight_response_item['Fields']:\n",
    "            course_url = plural_sight_response_item['Fields']['Id']['Value']\n",
    "            \n",
    "\n",
    "        current_course_values = [course_id, course_title, course_url, course_instructor, course_rating, course_duration, course_details, \n",
    "                                 course_level, course_no_of_reviews, course_no_of_enrolled]\n",
    "        \n",
    "        complete_course_details_df_all.loc[index] = current_course_values\n",
    "        index = index+1"
   ]
  },
  {
   "cell_type": "code",
   "execution_count": 128,
   "id": "b9c3dc19-4656-4efc-8e70-3f8f74a7ec93",
   "metadata": {},
   "outputs": [
    {
     "data": {
      "text/html": [
       "<div>\n",
       "<style scoped>\n",
       "    .dataframe tbody tr th:only-of-type {\n",
       "        vertical-align: middle;\n",
       "    }\n",
       "\n",
       "    .dataframe tbody tr th {\n",
       "        vertical-align: top;\n",
       "    }\n",
       "\n",
       "    .dataframe thead th {\n",
       "        text-align: right;\n",
       "    }\n",
       "</style>\n",
       "<table border=\"1\" class=\"dataframe\">\n",
       "  <thead>\n",
       "    <tr style=\"text-align: right;\">\n",
       "      <th></th>\n",
       "      <th>course_id</th>\n",
       "      <th>course_title</th>\n",
       "      <th>course_url</th>\n",
       "      <th>course_instructor</th>\n",
       "      <th>course_rating</th>\n",
       "      <th>course_duration</th>\n",
       "      <th>course_details</th>\n",
       "      <th>course_level</th>\n",
       "      <th>course_no_of_reviews</th>\n",
       "      <th>course_no_of_enrolled</th>\n",
       "    </tr>\n",
       "  </thead>\n",
       "  <tbody>\n",
       "    <tr>\n",
       "      <th>0</th>\n",
       "      <td>ud_0</td>\n",
       "      <td>Web Development: Executive Briefing</td>\n",
       "      <td>https://www.pluralsight.com/courses/web-develo...</td>\n",
       "      <td>Brice Wilson</td>\n",
       "      <td>4.6</td>\n",
       "      <td>PT30M2S</td>\n",
       "      <td></td>\n",
       "      <td>Beginner</td>\n",
       "      <td>158</td>\n",
       "      <td></td>\n",
       "    </tr>\n",
       "    <tr>\n",
       "      <th>1</th>\n",
       "      <td>ud_1</td>\n",
       "      <td>Front End Web Development: Get Started</td>\n",
       "      <td>https://www.pluralsight.com/courses/front-end-...</td>\n",
       "      <td>Joe Eames</td>\n",
       "      <td>4.6</td>\n",
       "      <td>PT3H47M57S</td>\n",
       "      <td></td>\n",
       "      <td>Beginner</td>\n",
       "      <td>1251</td>\n",
       "      <td></td>\n",
       "    </tr>\n",
       "    <tr>\n",
       "      <th>2</th>\n",
       "      <td>ud_2</td>\n",
       "      <td>Beyond ASP.NET MVC: Modern Web Development Dem...</td>\n",
       "      <td>https://www.pluralsight.com/courses/beyond-asp...</td>\n",
       "      <td>Chris Jones</td>\n",
       "      <td>4.6</td>\n",
       "      <td>PT1H50M33S</td>\n",
       "      <td></td>\n",
       "      <td>Beginner</td>\n",
       "      <td>75</td>\n",
       "      <td></td>\n",
       "    </tr>\n",
       "    <tr>\n",
       "      <th>3</th>\n",
       "      <td>ud_3</td>\n",
       "      <td>Tactics and Tools for Troubleshooting Front-en...</td>\n",
       "      <td>https://www.pluralsight.com/courses/tactics-to...</td>\n",
       "      <td>Shelley Benhoff</td>\n",
       "      <td>3.7</td>\n",
       "      <td>PT1H37M33S</td>\n",
       "      <td></td>\n",
       "      <td>Intermediate</td>\n",
       "      <td>54</td>\n",
       "      <td></td>\n",
       "    </tr>\n",
       "    <tr>\n",
       "      <th>4</th>\n",
       "      <td>ud_4</td>\n",
       "      <td>Tracking Real World Web Performance</td>\n",
       "      <td>https://www.pluralsight.com/courses/web-perfor...</td>\n",
       "      <td>Nik Molnar</td>\n",
       "      <td>4.6</td>\n",
       "      <td>PT1H37M33S</td>\n",
       "      <td></td>\n",
       "      <td>Beginner</td>\n",
       "      <td>145</td>\n",
       "      <td></td>\n",
       "    </tr>\n",
       "  </tbody>\n",
       "</table>\n",
       "</div>"
      ],
      "text/plain": [
       "  course_id                                       course_title  \\\n",
       "0      ud_0                Web Development: Executive Briefing   \n",
       "1      ud_1             Front End Web Development: Get Started   \n",
       "2      ud_2  Beyond ASP.NET MVC: Modern Web Development Dem...   \n",
       "3      ud_3  Tactics and Tools for Troubleshooting Front-en...   \n",
       "4      ud_4                Tracking Real World Web Performance   \n",
       "\n",
       "                                          course_url course_instructor  \\\n",
       "0  https://www.pluralsight.com/courses/web-develo...      Brice Wilson   \n",
       "1  https://www.pluralsight.com/courses/front-end-...         Joe Eames   \n",
       "2  https://www.pluralsight.com/courses/beyond-asp...       Chris Jones   \n",
       "3  https://www.pluralsight.com/courses/tactics-to...   Shelley Benhoff   \n",
       "4  https://www.pluralsight.com/courses/web-perfor...        Nik Molnar   \n",
       "\n",
       "  course_rating course_duration course_details  course_level  \\\n",
       "0           4.6         PT30M2S                     Beginner   \n",
       "1           4.6      PT3H47M57S                     Beginner   \n",
       "2           4.6      PT1H50M33S                     Beginner   \n",
       "3           3.7      PT1H37M33S                 Intermediate   \n",
       "4           4.6      PT1H37M33S                     Beginner   \n",
       "\n",
       "  course_no_of_reviews course_no_of_enrolled  \n",
       "0                  158                        \n",
       "1                 1251                        \n",
       "2                   75                        \n",
       "3                   54                        \n",
       "4                  145                        "
      ]
     },
     "execution_count": 128,
     "metadata": {},
     "output_type": "execute_result"
    }
   ],
   "source": [
    "complete_course_details_df_all.head()"
   ]
  },
  {
   "cell_type": "code",
   "execution_count": 129,
   "id": "631a9451-1458-4827-9179-7d26da910808",
   "metadata": {},
   "outputs": [],
   "source": [
    "level_mapping = {'Beginner': 1, 'Intermediate': 2, 'Advanced': 3}\n",
    "# Assuming complete_course_details_df_all is your DataFram\n",
    "complete_course_details_df_all['course_level'] = complete_course_details_df_all['course_level'].map(level_mapping)"
   ]
  },
  {
   "cell_type": "code",
   "execution_count": 130,
   "id": "a3d0685e-e835-483f-9311-4c753691ce30",
   "metadata": {},
   "outputs": [],
   "source": [
    "# Define a function to convert course_duration to hours\n",
    "def duration_to_hours(duration):\n",
    "    if pd.isnull(duration):\n",
    "        return None\n",
    "    parts = duration[2:].split('H')\n",
    "    hours = int(parts[0]) if len(parts) > 1 else 0\n",
    "    minutes = int(parts[-1].split('M')[0]) if 'M' in duration else 0\n",
    "    seconds = int(parts[-1].split('S')[0].split('M')[-1]) if 'S' in duration else 0\n",
    "    return hours + minutes / 60 + seconds / 3600\n",
    "\n",
    "complete_course_details_df_all['course_duration'] = complete_course_details_df_all['course_duration'].apply(duration_to_hours)"
   ]
  },
  {
   "cell_type": "code",
   "execution_count": 131,
   "id": "194bcb01-edb7-444e-b402-00bf3010a91a",
   "metadata": {},
   "outputs": [
    {
     "data": {
      "text/html": [
       "<div>\n",
       "<style scoped>\n",
       "    .dataframe tbody tr th:only-of-type {\n",
       "        vertical-align: middle;\n",
       "    }\n",
       "\n",
       "    .dataframe tbody tr th {\n",
       "        vertical-align: top;\n",
       "    }\n",
       "\n",
       "    .dataframe thead th {\n",
       "        text-align: right;\n",
       "    }\n",
       "</style>\n",
       "<table border=\"1\" class=\"dataframe\">\n",
       "  <thead>\n",
       "    <tr style=\"text-align: right;\">\n",
       "      <th></th>\n",
       "      <th>course_id</th>\n",
       "      <th>course_title</th>\n",
       "      <th>course_url</th>\n",
       "      <th>course_instructor</th>\n",
       "      <th>course_rating</th>\n",
       "      <th>course_duration</th>\n",
       "      <th>course_details</th>\n",
       "      <th>course_level</th>\n",
       "      <th>course_no_of_reviews</th>\n",
       "      <th>course_no_of_enrolled</th>\n",
       "    </tr>\n",
       "  </thead>\n",
       "  <tbody>\n",
       "    <tr>\n",
       "      <th>0</th>\n",
       "      <td>ud_0</td>\n",
       "      <td>Web Development: Executive Briefing</td>\n",
       "      <td>https://www.pluralsight.com/courses/web-develo...</td>\n",
       "      <td>Brice Wilson</td>\n",
       "      <td>4.6</td>\n",
       "      <td>0.500556</td>\n",
       "      <td></td>\n",
       "      <td>1</td>\n",
       "      <td>158</td>\n",
       "      <td></td>\n",
       "    </tr>\n",
       "    <tr>\n",
       "      <th>1</th>\n",
       "      <td>ud_1</td>\n",
       "      <td>Front End Web Development: Get Started</td>\n",
       "      <td>https://www.pluralsight.com/courses/front-end-...</td>\n",
       "      <td>Joe Eames</td>\n",
       "      <td>4.6</td>\n",
       "      <td>3.799167</td>\n",
       "      <td></td>\n",
       "      <td>1</td>\n",
       "      <td>1251</td>\n",
       "      <td></td>\n",
       "    </tr>\n",
       "    <tr>\n",
       "      <th>2</th>\n",
       "      <td>ud_2</td>\n",
       "      <td>Beyond ASP.NET MVC: Modern Web Development Dem...</td>\n",
       "      <td>https://www.pluralsight.com/courses/beyond-asp...</td>\n",
       "      <td>Chris Jones</td>\n",
       "      <td>4.6</td>\n",
       "      <td>1.842500</td>\n",
       "      <td></td>\n",
       "      <td>1</td>\n",
       "      <td>75</td>\n",
       "      <td></td>\n",
       "    </tr>\n",
       "    <tr>\n",
       "      <th>3</th>\n",
       "      <td>ud_3</td>\n",
       "      <td>Tactics and Tools for Troubleshooting Front-en...</td>\n",
       "      <td>https://www.pluralsight.com/courses/tactics-to...</td>\n",
       "      <td>Shelley Benhoff</td>\n",
       "      <td>3.7</td>\n",
       "      <td>1.625833</td>\n",
       "      <td></td>\n",
       "      <td>2</td>\n",
       "      <td>54</td>\n",
       "      <td></td>\n",
       "    </tr>\n",
       "    <tr>\n",
       "      <th>4</th>\n",
       "      <td>ud_4</td>\n",
       "      <td>Tracking Real World Web Performance</td>\n",
       "      <td>https://www.pluralsight.com/courses/web-perfor...</td>\n",
       "      <td>Nik Molnar</td>\n",
       "      <td>4.6</td>\n",
       "      <td>1.625833</td>\n",
       "      <td></td>\n",
       "      <td>1</td>\n",
       "      <td>145</td>\n",
       "      <td></td>\n",
       "    </tr>\n",
       "  </tbody>\n",
       "</table>\n",
       "</div>"
      ],
      "text/plain": [
       "  course_id                                       course_title  \\\n",
       "0      ud_0                Web Development: Executive Briefing   \n",
       "1      ud_1             Front End Web Development: Get Started   \n",
       "2      ud_2  Beyond ASP.NET MVC: Modern Web Development Dem...   \n",
       "3      ud_3  Tactics and Tools for Troubleshooting Front-en...   \n",
       "4      ud_4                Tracking Real World Web Performance   \n",
       "\n",
       "                                          course_url course_instructor  \\\n",
       "0  https://www.pluralsight.com/courses/web-develo...      Brice Wilson   \n",
       "1  https://www.pluralsight.com/courses/front-end-...         Joe Eames   \n",
       "2  https://www.pluralsight.com/courses/beyond-asp...       Chris Jones   \n",
       "3  https://www.pluralsight.com/courses/tactics-to...   Shelley Benhoff   \n",
       "4  https://www.pluralsight.com/courses/web-perfor...        Nik Molnar   \n",
       "\n",
       "  course_rating  course_duration course_details  course_level  \\\n",
       "0           4.6         0.500556                            1   \n",
       "1           4.6         3.799167                            1   \n",
       "2           4.6         1.842500                            1   \n",
       "3           3.7         1.625833                            2   \n",
       "4           4.6         1.625833                            1   \n",
       "\n",
       "  course_no_of_reviews course_no_of_enrolled  \n",
       "0                  158                        \n",
       "1                 1251                        \n",
       "2                   75                        \n",
       "3                   54                        \n",
       "4                  145                        "
      ]
     },
     "execution_count": 131,
     "metadata": {},
     "output_type": "execute_result"
    }
   ],
   "source": [
    "complete_course_details_df_all.head()"
   ]
  },
  {
   "cell_type": "code",
   "execution_count": 132,
   "id": "1ee0b4c3-a753-4c58-9c77-67681a09e5ff",
   "metadata": {},
   "outputs": [],
   "source": [
    "complete_course_details_df_all = complete_course_details_df_all.reset_index(drop=True)\n",
    "complete_course_details_df_all['course_id'] = 'ps_' + (complete_course_details_df_all.index + 1).astype(str)"
   ]
  },
  {
   "cell_type": "code",
   "execution_count": 133,
   "id": "3ea2687c-e3b1-4705-9f68-9e5cfdb47b85",
   "metadata": {},
   "outputs": [
    {
     "data": {
      "text/html": [
       "<div>\n",
       "<style scoped>\n",
       "    .dataframe tbody tr th:only-of-type {\n",
       "        vertical-align: middle;\n",
       "    }\n",
       "\n",
       "    .dataframe tbody tr th {\n",
       "        vertical-align: top;\n",
       "    }\n",
       "\n",
       "    .dataframe thead th {\n",
       "        text-align: right;\n",
       "    }\n",
       "</style>\n",
       "<table border=\"1\" class=\"dataframe\">\n",
       "  <thead>\n",
       "    <tr style=\"text-align: right;\">\n",
       "      <th></th>\n",
       "      <th>course_id</th>\n",
       "      <th>course_title</th>\n",
       "      <th>course_url</th>\n",
       "      <th>course_instructor</th>\n",
       "      <th>course_rating</th>\n",
       "      <th>course_duration</th>\n",
       "      <th>course_details</th>\n",
       "      <th>course_level</th>\n",
       "      <th>course_no_of_reviews</th>\n",
       "      <th>course_no_of_enrolled</th>\n",
       "    </tr>\n",
       "  </thead>\n",
       "  <tbody>\n",
       "    <tr>\n",
       "      <th>0</th>\n",
       "      <td>ps_1</td>\n",
       "      <td>Web Development: Executive Briefing</td>\n",
       "      <td>https://www.pluralsight.com/courses/web-develo...</td>\n",
       "      <td>Brice Wilson</td>\n",
       "      <td>4.6</td>\n",
       "      <td>0.500556</td>\n",
       "      <td></td>\n",
       "      <td>1</td>\n",
       "      <td>158</td>\n",
       "      <td></td>\n",
       "    </tr>\n",
       "    <tr>\n",
       "      <th>1</th>\n",
       "      <td>ps_2</td>\n",
       "      <td>Front End Web Development: Get Started</td>\n",
       "      <td>https://www.pluralsight.com/courses/front-end-...</td>\n",
       "      <td>Joe Eames</td>\n",
       "      <td>4.6</td>\n",
       "      <td>3.799167</td>\n",
       "      <td></td>\n",
       "      <td>1</td>\n",
       "      <td>1251</td>\n",
       "      <td></td>\n",
       "    </tr>\n",
       "    <tr>\n",
       "      <th>2</th>\n",
       "      <td>ps_3</td>\n",
       "      <td>Beyond ASP.NET MVC: Modern Web Development Dem...</td>\n",
       "      <td>https://www.pluralsight.com/courses/beyond-asp...</td>\n",
       "      <td>Chris Jones</td>\n",
       "      <td>4.6</td>\n",
       "      <td>1.842500</td>\n",
       "      <td></td>\n",
       "      <td>1</td>\n",
       "      <td>75</td>\n",
       "      <td></td>\n",
       "    </tr>\n",
       "    <tr>\n",
       "      <th>3</th>\n",
       "      <td>ps_4</td>\n",
       "      <td>Tactics and Tools for Troubleshooting Front-en...</td>\n",
       "      <td>https://www.pluralsight.com/courses/tactics-to...</td>\n",
       "      <td>Shelley Benhoff</td>\n",
       "      <td>3.7</td>\n",
       "      <td>1.625833</td>\n",
       "      <td></td>\n",
       "      <td>2</td>\n",
       "      <td>54</td>\n",
       "      <td></td>\n",
       "    </tr>\n",
       "    <tr>\n",
       "      <th>4</th>\n",
       "      <td>ps_5</td>\n",
       "      <td>Tracking Real World Web Performance</td>\n",
       "      <td>https://www.pluralsight.com/courses/web-perfor...</td>\n",
       "      <td>Nik Molnar</td>\n",
       "      <td>4.6</td>\n",
       "      <td>1.625833</td>\n",
       "      <td></td>\n",
       "      <td>1</td>\n",
       "      <td>145</td>\n",
       "      <td></td>\n",
       "    </tr>\n",
       "  </tbody>\n",
       "</table>\n",
       "</div>"
      ],
      "text/plain": [
       "  course_id                                       course_title  \\\n",
       "0      ps_1                Web Development: Executive Briefing   \n",
       "1      ps_2             Front End Web Development: Get Started   \n",
       "2      ps_3  Beyond ASP.NET MVC: Modern Web Development Dem...   \n",
       "3      ps_4  Tactics and Tools for Troubleshooting Front-en...   \n",
       "4      ps_5                Tracking Real World Web Performance   \n",
       "\n",
       "                                          course_url course_instructor  \\\n",
       "0  https://www.pluralsight.com/courses/web-develo...      Brice Wilson   \n",
       "1  https://www.pluralsight.com/courses/front-end-...         Joe Eames   \n",
       "2  https://www.pluralsight.com/courses/beyond-asp...       Chris Jones   \n",
       "3  https://www.pluralsight.com/courses/tactics-to...   Shelley Benhoff   \n",
       "4  https://www.pluralsight.com/courses/web-perfor...        Nik Molnar   \n",
       "\n",
       "  course_rating  course_duration course_details  course_level  \\\n",
       "0           4.6         0.500556                            1   \n",
       "1           4.6         3.799167                            1   \n",
       "2           4.6         1.842500                            1   \n",
       "3           3.7         1.625833                            2   \n",
       "4           4.6         1.625833                            1   \n",
       "\n",
       "  course_no_of_reviews course_no_of_enrolled  \n",
       "0                  158                        \n",
       "1                 1251                        \n",
       "2                   75                        \n",
       "3                   54                        \n",
       "4                  145                        "
      ]
     },
     "execution_count": 133,
     "metadata": {},
     "output_type": "execute_result"
    }
   ],
   "source": [
    "complete_course_details_df_all.head()"
   ]
  },
  {
   "cell_type": "markdown",
   "id": "7c809305-9286-43b3-909f-1275919204f7",
   "metadata": {},
   "source": [
    "## Function to preprocess the description of the courses"
   ]
  },
  {
   "cell_type": "code",
   "execution_count": 134,
   "id": "e6a45fb1-2f98-4e2e-b7b4-b2c4c84065ff",
   "metadata": {},
   "outputs": [],
   "source": [
    "from lxml import etree\n",
    "\n",
    "def get_pluralsight_course_details(url):\n",
    "    \n",
    "    course_description = ''\n",
    "    \n",
    "    response = get_http_response(url)\n",
    "    time.sleep(0.5)\n",
    "    \n",
    "    try:\n",
    "        html = lx.fromstring(response.text)\n",
    "        #print(response.text)\n",
    "        \n",
    "        course_description_item = html.xpath(\"//div[@class='course-page-section']/h2[contains(text(), 'What you') and contains(text(), 'learn')]/following-sibling::*\")\n",
    "        if course_description_item:\n",
    "\n",
    "            if len(course_description_item)>=1:\n",
    "                course_description = course_description + course_description_item[0].text_content().strip()\n",
    "                \n",
    "            if len(course_description_item)>=2:\n",
    "                course_description = course_description + course_description_item[1].text_content().strip()\n",
    "\n",
    "        else:\n",
    "            print(\"No matching <p> tag found.\")\n",
    "            return \"\"\n",
    "\n",
    "    except:\n",
    "        print(\"No learning objectives found: \" + course_description )\n",
    "        return \"\"\n",
    "\n",
    "    return course_description"
   ]
  },
  {
   "cell_type": "code",
   "execution_count": 135,
   "id": "5bb2bd11-c177-4ceb-8dca-644925f9e7dc",
   "metadata": {},
   "outputs": [
    {
     "data": {
      "text/plain": [
       "\"Tech leaders need a fundamental understanding of the tools and technologies their teams use to build solutions. In this course, Web Development: Executive Briefing, you'll get an overview of all the technologies typically used to build modern web applications and the skills required on the teams that build them. First, you'll learn how to structure a web development team and make sure you have the skills required for development and deployment. Next, you'll discover the primary technologies used when building client-side browser applications. Finally, you'll explore the role of the server, server-side developers, and cloud services when building and hosting web applications. When you're finished with this course, you will have a foundational understanding of the technologies used in modern web development that will help you communicate better with your technical teams and understand the skills required on every web development project.\""
      ]
     },
     "execution_count": 135,
     "metadata": {},
     "output_type": "execute_result"
    }
   ],
   "source": [
    "get_pluralsight_course_details('https://www.pluralsight.com/courses/web-development-executive-briefing')"
   ]
  },
  {
   "cell_type": "code",
   "execution_count": 136,
   "id": "4e8dae22-24a2-43af-b3e4-3f31255d261a",
   "metadata": {},
   "outputs": [
    {
     "data": {
      "text/plain": [
       "\"The web development landscape is constantly changing, and it can be hard to keep up. In this course, Beyond ASP.NET MVC: Modern Web Development Demystified, you'll learn the the recent front-ends trends along with what they are, why they exist, and you'll be doing demos to give you a practical insight into how the tool work. First, you'll explore package managers and transpilers. Next, you'll discover JavaScript modules and front-end frameworks. Finally, you'll wrap up this course with learning task runners and module bundlers. By the end of this course, you'll have a high-level understanding of what these tools are and how they can help you as a web developer.\""
      ]
     },
     "execution_count": 136,
     "metadata": {},
     "output_type": "execute_result"
    }
   ],
   "source": [
    "get_pluralsight_course_details('https://www.pluralsight.com/courses/beyond-aspdotnet-web-development-demystified')"
   ]
  },
  {
   "cell_type": "code",
   "execution_count": 137,
   "id": "ceeeac00-0b0d-4e90-aba8-778875937302",
   "metadata": {},
   "outputs": [
    {
     "name": "stdout",
     "output_type": "stream",
     "text": [
      "No matching <p> tag found.\n",
      "No matching <p> tag found.\n",
      "Too many requests!!\n",
      "404 Client Error: Not Found for url: https://www.pluralsight.com/courses/designing-restful-web-apis\n",
      "No learning objectives found: \n",
      "Too many requests!!\n",
      "404 Client Error: Not Found for url: https://www.pluralsight.com/courses/designing-restful-web-apis\n",
      "No learning objectives found: \n",
      "Too many requests!!\n",
      "500 Server Error: Internal Server Error for url: https://www.pluralsight.com/courses/go-building-web-services-applications\n",
      "No learning objectives found: \n",
      "No matching <p> tag found.\n",
      "No matching <p> tag found.\n",
      "No matching <p> tag found.\n",
      "No matching <p> tag found.\n",
      "No matching <p> tag found.\n"
     ]
    }
   ],
   "source": [
    "complete_course_details_df_all['course_details'] = complete_course_details_df_all['course_url'].apply(get_pluralsight_course_details)"
   ]
  },
  {
   "cell_type": "code",
   "execution_count": 138,
   "id": "48b2f7fd-3a71-46f6-ab78-f7aef981c087",
   "metadata": {},
   "outputs": [
    {
     "data": {
      "text/html": [
       "<div>\n",
       "<style scoped>\n",
       "    .dataframe tbody tr th:only-of-type {\n",
       "        vertical-align: middle;\n",
       "    }\n",
       "\n",
       "    .dataframe tbody tr th {\n",
       "        vertical-align: top;\n",
       "    }\n",
       "\n",
       "    .dataframe thead th {\n",
       "        text-align: right;\n",
       "    }\n",
       "</style>\n",
       "<table border=\"1\" class=\"dataframe\">\n",
       "  <thead>\n",
       "    <tr style=\"text-align: right;\">\n",
       "      <th></th>\n",
       "      <th>course_id</th>\n",
       "      <th>course_title</th>\n",
       "      <th>course_url</th>\n",
       "      <th>course_instructor</th>\n",
       "      <th>course_rating</th>\n",
       "      <th>course_duration</th>\n",
       "      <th>course_details</th>\n",
       "      <th>course_level</th>\n",
       "      <th>course_no_of_reviews</th>\n",
       "      <th>course_no_of_enrolled</th>\n",
       "    </tr>\n",
       "  </thead>\n",
       "  <tbody>\n",
       "    <tr>\n",
       "      <th>0</th>\n",
       "      <td>ps_1</td>\n",
       "      <td>Web Development: Executive Briefing</td>\n",
       "      <td>https://www.pluralsight.com/courses/web-develo...</td>\n",
       "      <td>Brice Wilson</td>\n",
       "      <td>4.6</td>\n",
       "      <td>0.500556</td>\n",
       "      <td>Tech leaders need a fundamental understanding ...</td>\n",
       "      <td>1</td>\n",
       "      <td>158</td>\n",
       "      <td></td>\n",
       "    </tr>\n",
       "    <tr>\n",
       "      <th>1</th>\n",
       "      <td>ps_2</td>\n",
       "      <td>Front End Web Development: Get Started</td>\n",
       "      <td>https://www.pluralsight.com/courses/front-end-...</td>\n",
       "      <td>Joe Eames</td>\n",
       "      <td>4.6</td>\n",
       "      <td>3.799167</td>\n",
       "      <td>Front end web development involves many differ...</td>\n",
       "      <td>1</td>\n",
       "      <td>1251</td>\n",
       "      <td></td>\n",
       "    </tr>\n",
       "    <tr>\n",
       "      <th>2</th>\n",
       "      <td>ps_3</td>\n",
       "      <td>Beyond ASP.NET MVC: Modern Web Development Dem...</td>\n",
       "      <td>https://www.pluralsight.com/courses/beyond-asp...</td>\n",
       "      <td>Chris Jones</td>\n",
       "      <td>4.6</td>\n",
       "      <td>1.842500</td>\n",
       "      <td>The web development landscape is constantly ch...</td>\n",
       "      <td>1</td>\n",
       "      <td>75</td>\n",
       "      <td></td>\n",
       "    </tr>\n",
       "    <tr>\n",
       "      <th>3</th>\n",
       "      <td>ps_4</td>\n",
       "      <td>Tactics and Tools for Troubleshooting Front-en...</td>\n",
       "      <td>https://www.pluralsight.com/courses/tactics-to...</td>\n",
       "      <td>Shelley Benhoff</td>\n",
       "      <td>3.7</td>\n",
       "      <td>1.625833</td>\n",
       "      <td>At the core of any fully responsive website is...</td>\n",
       "      <td>2</td>\n",
       "      <td>54</td>\n",
       "      <td></td>\n",
       "    </tr>\n",
       "    <tr>\n",
       "      <th>4</th>\n",
       "      <td>ps_5</td>\n",
       "      <td>Tracking Real World Web Performance</td>\n",
       "      <td>https://www.pluralsight.com/courses/web-perfor...</td>\n",
       "      <td>Nik Molnar</td>\n",
       "      <td>4.6</td>\n",
       "      <td>1.625833</td>\n",
       "      <td>Study upon study confirms that web performance...</td>\n",
       "      <td>1</td>\n",
       "      <td>145</td>\n",
       "      <td></td>\n",
       "    </tr>\n",
       "  </tbody>\n",
       "</table>\n",
       "</div>"
      ],
      "text/plain": [
       "  course_id                                       course_title  \\\n",
       "0      ps_1                Web Development: Executive Briefing   \n",
       "1      ps_2             Front End Web Development: Get Started   \n",
       "2      ps_3  Beyond ASP.NET MVC: Modern Web Development Dem...   \n",
       "3      ps_4  Tactics and Tools for Troubleshooting Front-en...   \n",
       "4      ps_5                Tracking Real World Web Performance   \n",
       "\n",
       "                                          course_url course_instructor  \\\n",
       "0  https://www.pluralsight.com/courses/web-develo...      Brice Wilson   \n",
       "1  https://www.pluralsight.com/courses/front-end-...         Joe Eames   \n",
       "2  https://www.pluralsight.com/courses/beyond-asp...       Chris Jones   \n",
       "3  https://www.pluralsight.com/courses/tactics-to...   Shelley Benhoff   \n",
       "4  https://www.pluralsight.com/courses/web-perfor...        Nik Molnar   \n",
       "\n",
       "  course_rating  course_duration  \\\n",
       "0           4.6         0.500556   \n",
       "1           4.6         3.799167   \n",
       "2           4.6         1.842500   \n",
       "3           3.7         1.625833   \n",
       "4           4.6         1.625833   \n",
       "\n",
       "                                      course_details  course_level  \\\n",
       "0  Tech leaders need a fundamental understanding ...             1   \n",
       "1  Front end web development involves many differ...             1   \n",
       "2  The web development landscape is constantly ch...             1   \n",
       "3  At the core of any fully responsive website is...             2   \n",
       "4  Study upon study confirms that web performance...             1   \n",
       "\n",
       "  course_no_of_reviews course_no_of_enrolled  \n",
       "0                  158                        \n",
       "1                 1251                        \n",
       "2                   75                        \n",
       "3                   54                        \n",
       "4                  145                        "
      ]
     },
     "execution_count": 138,
     "metadata": {},
     "output_type": "execute_result"
    }
   ],
   "source": [
    "complete_course_details_df_all.head()"
   ]
  },
  {
   "cell_type": "code",
   "execution_count": 139,
   "id": "5ddf0cb5",
   "metadata": {},
   "outputs": [
    {
     "data": {
      "text/plain": [
       "0"
      ]
     },
     "execution_count": 139,
     "metadata": {},
     "output_type": "execute_result"
    }
   ],
   "source": [
    "complete_course_details_df_all['course_details'].isna().sum()"
   ]
  },
  {
   "cell_type": "code",
   "execution_count": 140,
   "id": "5ea5a8fd-9ffa-4354-8c33-8395c21124c4",
   "metadata": {},
   "outputs": [],
   "source": [
    "empty_details_indices = complete_course_details_df_all[complete_course_details_df_all['course_details']==''].index.tolist()"
   ]
  },
  {
   "cell_type": "code",
   "execution_count": 141,
   "id": "9ce8480c-4000-4ed9-af67-baf5e31150ab",
   "metadata": {},
   "outputs": [
    {
     "data": {
      "text/plain": [
       "[23, 34, 66, 75, 123, 131, 134, 150, 185, 186]"
      ]
     },
     "execution_count": 141,
     "metadata": {},
     "output_type": "execute_result"
    }
   ],
   "source": [
    "empty_details_indices"
   ]
  },
  {
   "cell_type": "code",
   "execution_count": 142,
   "id": "4fda9661-19c6-4ef7-b668-b9c764407234",
   "metadata": {},
   "outputs": [],
   "source": [
    "complete_course_details_df_all.drop(empty_details_indices, inplace=True)"
   ]
  },
  {
   "cell_type": "code",
   "execution_count": 144,
   "id": "f886bee6",
   "metadata": {},
   "outputs": [],
   "source": [
    "complete_course_details_df_all = complete_course_details_df_all.reset_index().drop(columns=['index'])"
   ]
  },
  {
   "cell_type": "code",
   "execution_count": 148,
   "id": "9af5daa6-24bb-49e1-ac6b-1ac01d6245f9",
   "metadata": {},
   "outputs": [],
   "source": [
    "empty_details_indices = complete_course_details_df_all[complete_course_details_df_all['course_details']==\"\"].index.tolist()"
   ]
  },
  {
   "cell_type": "code",
   "execution_count": 149,
   "id": "0a50b9d0-d214-484f-8538-1639403779f0",
   "metadata": {},
   "outputs": [
    {
     "data": {
      "text/plain": [
       "[]"
      ]
     },
     "execution_count": 149,
     "metadata": {},
     "output_type": "execute_result"
    }
   ],
   "source": [
    "empty_details_indices"
   ]
  },
  {
   "cell_type": "code",
   "execution_count": 232,
   "id": "220739b5-9b7b-4abe-9a3d-7a4ef2b1239d",
   "metadata": {},
   "outputs": [],
   "source": [
    "complete_course_details_df_all.to_csv(\"pluralsight_course_all_info.csv\", index=False)"
   ]
  }
 ],
 "metadata": {
  "kernelspec": {
   "display_name": "Python 3 (ipykernel)",
   "language": "python",
   "name": "python3"
  },
  "language_info": {
   "codemirror_mode": {
    "name": "ipython",
    "version": 3
   },
   "file_extension": ".py",
   "mimetype": "text/x-python",
   "name": "python",
   "nbconvert_exporter": "python",
   "pygments_lexer": "ipython3",
   "version": "3.11.5"
  }
 },
 "nbformat": 4,
 "nbformat_minor": 5
}
