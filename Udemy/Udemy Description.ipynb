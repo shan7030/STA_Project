{
 "cells": [
  {
   "cell_type": "code",
   "execution_count": 3,
   "id": "12b09e86",
   "metadata": {},
   "outputs": [],
   "source": [
    "import requests\n",
    "import lxml.html as lx\n",
    "import time\n",
    "import re\n",
    "import pandas as pd"
   ]
  },
  {
   "cell_type": "markdown",
   "id": "ace5b59f-3537-4025-b0f5-d3dbc7f69356",
   "metadata": {},
   "source": [
    "## Generic Function to make the HTTP Request"
   ]
  },
  {
   "cell_type": "code",
   "execution_count": 385,
   "id": "bc8567e4",
   "metadata": {},
   "outputs": [],
   "source": [
    "\n",
    "# make a get request on session object and return response\n",
    "def get_http_response( url, params = {} ):\n",
    "\n",
    "  time.sleep(0.05)\n",
    "\n",
    "  try:\n",
    "    # get request\n",
    "    response = requests.get( url, params )\n",
    "    response.raise_for_status()\n",
    "\n",
    "  # handle exceptions\n",
    "  except requests.exceptions.HTTPError as e:\n",
    "    print(\"Too many requests!!\")\n",
    "    print(e)\n",
    "    return None\n",
    "\n",
    "  except requests.exceptions.URLRequired as e:\n",
    "    print(\"Invalid URL: Server could not be found for the given url\")\n",
    "    return None\n",
    "\n",
    "  else:\n",
    "    # return the response if no exceptions\n",
    "    return response\n",
    "\n",
    "\n",
    "    "
   ]
  },
  {
   "cell_type": "markdown",
   "id": "cf7a92fa-aa6c-4236-a660-6d7cd3d7b2f8",
   "metadata": {},
   "source": [
    "## Given a URL fetch the details of Udemy Course using Scrapping"
   ]
  },
  {
   "cell_type": "code",
   "execution_count": 5,
   "id": "f0d7f35e",
   "metadata": {},
   "outputs": [],
   "source": [
    "def get_udemy_course_details( url ):\n",
    "    \n",
    "    course_description = ''\n",
    "    learning_objectives = ''\n",
    "    \n",
    "    response = get_http_response( url )\n",
    "    \n",
    "    try:\n",
    "        html = lx.fromstring(response.text)\n",
    "        \n",
    "        course_description = html.xpath(\"//body//div[@data-purpose='safely-set-inner-html:description:description']//text()\")\n",
    "        course_description = \" \".join(course_description).replace('\\xa0', ' ')\n",
    "\n",
    "        learning_objectives = html.xpath(\"//body//ul[contains(@class, 'what-you-will-learn--objectives-list-two-column-layout--ED4as')]//div[contains(@class, 'ud-block-list-item-content')]//span/text()\")\n",
    "        learning_objectives = \" \".join(learning_objectives)\n",
    "    except:\n",
    "        print(\"No learning onjectives found: \" + course_description )\n",
    "        return course_description if course_description else (learning_objectives if learning_objectives else '')\n",
    "    else:\n",
    "        course_details = course_description + ' ' + learning_objectives\n",
    "        return course_details\n",
    "    "
   ]
  },
  {
   "cell_type": "code",
   "execution_count": 6,
   "id": "4bde35d0",
   "metadata": {},
   "outputs": [],
   "source": [
    "url = 'https://www.udemy.com/course/javascript-web-projects-to-build-your-portfolio-resume'"
   ]
  },
  {
   "cell_type": "code",
   "execution_count": 7,
   "id": "c5651ee2",
   "metadata": {},
   "outputs": [],
   "source": [
    "desc = get_udemy_course_details(url)"
   ]
  },
  {
   "cell_type": "code",
   "execution_count": 11,
   "id": "a01320e2",
   "metadata": {},
   "outputs": [],
   "source": [
    "import os"
   ]
  },
  {
   "cell_type": "code",
   "execution_count": 12,
   "id": "5ad568c5",
   "metadata": {},
   "outputs": [
    {
     "data": {
      "text/plain": [
       "['.git',\n",
       " '.ipynb_checkpoints',\n",
       " 'initial_udemy_course_title_url_list.csv',\n",
       " 'README.md',\n",
       " 'stat220_project.ipynb',\n",
       " 'Udemy API.ipynb',\n",
       " 'udemy_course_all_info_without_description.csv']"
      ]
     },
     "execution_count": 12,
     "metadata": {},
     "output_type": "execute_result"
    }
   ],
   "source": [
    "os.listdir()"
   ]
  },
  {
   "cell_type": "code",
   "execution_count": 13,
   "id": "db182133",
   "metadata": {},
   "outputs": [],
   "source": [
    "df = pd.read_csv('udemy_course_all_info_without_description.csv')"
   ]
  },
  {
   "cell_type": "code",
   "execution_count": 14,
   "id": "6d316617",
   "metadata": {},
   "outputs": [
    {
     "data": {
      "text/html": [
       "<div>\n",
       "<style scoped>\n",
       "    .dataframe tbody tr th:only-of-type {\n",
       "        vertical-align: middle;\n",
       "    }\n",
       "\n",
       "    .dataframe tbody tr th {\n",
       "        vertical-align: top;\n",
       "    }\n",
       "\n",
       "    .dataframe thead th {\n",
       "        text-align: right;\n",
       "    }\n",
       "</style>\n",
       "<table border=\"1\" class=\"dataframe\">\n",
       "  <thead>\n",
       "    <tr style=\"text-align: right;\">\n",
       "      <th></th>\n",
       "      <th>course_id</th>\n",
       "      <th>course_title</th>\n",
       "      <th>course_url</th>\n",
       "      <th>course_instructor</th>\n",
       "      <th>course_rating</th>\n",
       "      <th>course_duration</th>\n",
       "      <th>course_details</th>\n",
       "      <th>course_level</th>\n",
       "      <th>course_no_of_reviews</th>\n",
       "      <th>course_no_of_enrolled</th>\n",
       "    </tr>\n",
       "  </thead>\n",
       "  <tbody>\n",
       "    <tr>\n",
       "      <th>0</th>\n",
       "      <td>ud_1565838</td>\n",
       "      <td>The Complete 2024 Web Development Bootcamp</td>\n",
       "      <td>https://www.udemy.com/course/the-complete-web-...</td>\n",
       "      <td>Dr. Angela Yu</td>\n",
       "      <td>4.701074</td>\n",
       "      <td>62.0</td>\n",
       "      <td>NaN</td>\n",
       "      <td>0</td>\n",
       "      <td>362657</td>\n",
       "      <td>1208632</td>\n",
       "    </tr>\n",
       "    <tr>\n",
       "      <th>1</th>\n",
       "      <td>ud_625204</td>\n",
       "      <td>The Web Developer Bootcamp 2024</td>\n",
       "      <td>https://www.udemy.com/course/the-web-developer...</td>\n",
       "      <td>Colt Steele</td>\n",
       "      <td>4.677242</td>\n",
       "      <td>74.0</td>\n",
       "      <td>NaN</td>\n",
       "      <td>0</td>\n",
       "      <td>270209</td>\n",
       "      <td>902271</td>\n",
       "    </tr>\n",
       "    <tr>\n",
       "      <th>2</th>\n",
       "      <td>ud_851712</td>\n",
       "      <td>The Complete JavaScript Course 2024: From Zero...</td>\n",
       "      <td>https://www.udemy.com/course/the-complete-java...</td>\n",
       "      <td>Jonas Schmedtmann</td>\n",
       "      <td>4.713503</td>\n",
       "      <td>68.5</td>\n",
       "      <td>NaN</td>\n",
       "      <td>0</td>\n",
       "      <td>201155</td>\n",
       "      <td>888778</td>\n",
       "    </tr>\n",
       "    <tr>\n",
       "      <th>3</th>\n",
       "      <td>ud_756150</td>\n",
       "      <td>Angular - The Complete Guide (2024 Edition)</td>\n",
       "      <td>https://www.udemy.com/course/the-complete-guid...</td>\n",
       "      <td>Maximilian Schwarzmüller</td>\n",
       "      <td>4.617524</td>\n",
       "      <td>36.5</td>\n",
       "      <td>NaN</td>\n",
       "      <td>0</td>\n",
       "      <td>198086</td>\n",
       "      <td>742648</td>\n",
       "    </tr>\n",
       "    <tr>\n",
       "      <th>4</th>\n",
       "      <td>ud_437398</td>\n",
       "      <td>Build Responsive Real-World Websites with HTML...</td>\n",
       "      <td>https://www.udemy.com/course/design-and-develo...</td>\n",
       "      <td>Jonas Schmedtmann</td>\n",
       "      <td>4.757232</td>\n",
       "      <td>37.5</td>\n",
       "      <td>NaN</td>\n",
       "      <td>0</td>\n",
       "      <td>104332</td>\n",
       "      <td>412961</td>\n",
       "    </tr>\n",
       "  </tbody>\n",
       "</table>\n",
       "</div>"
      ],
      "text/plain": [
       "    course_id                                       course_title  \\\n",
       "0  ud_1565838         The Complete 2024 Web Development Bootcamp   \n",
       "1   ud_625204                    The Web Developer Bootcamp 2024   \n",
       "2   ud_851712  The Complete JavaScript Course 2024: From Zero...   \n",
       "3   ud_756150        Angular - The Complete Guide (2024 Edition)   \n",
       "4   ud_437398  Build Responsive Real-World Websites with HTML...   \n",
       "\n",
       "                                          course_url  \\\n",
       "0  https://www.udemy.com/course/the-complete-web-...   \n",
       "1  https://www.udemy.com/course/the-web-developer...   \n",
       "2  https://www.udemy.com/course/the-complete-java...   \n",
       "3  https://www.udemy.com/course/the-complete-guid...   \n",
       "4  https://www.udemy.com/course/design-and-develo...   \n",
       "\n",
       "          course_instructor  course_rating  course_duration  course_details  \\\n",
       "0             Dr. Angela Yu       4.701074             62.0             NaN   \n",
       "1               Colt Steele       4.677242             74.0             NaN   \n",
       "2         Jonas Schmedtmann       4.713503             68.5             NaN   \n",
       "3  Maximilian Schwarzmüller       4.617524             36.5             NaN   \n",
       "4         Jonas Schmedtmann       4.757232             37.5             NaN   \n",
       "\n",
       "   course_level  course_no_of_reviews  course_no_of_enrolled  \n",
       "0             0                362657                1208632  \n",
       "1             0                270209                 902271  \n",
       "2             0                201155                 888778  \n",
       "3             0                198086                 742648  \n",
       "4             0                104332                 412961  "
      ]
     },
     "execution_count": 14,
     "metadata": {},
     "output_type": "execute_result"
    }
   ],
   "source": [
    "df.head()"
   ]
  },
  {
   "cell_type": "code",
   "execution_count": 24,
   "id": "ba77cc57",
   "metadata": {},
   "outputs": [
    {
     "name": "stdout",
     "output_type": "stream",
     "text": [
      "Too many requests!!\n",
      "502 Server Error: Bad Gateway for url: https://www.udemy.com/course/understanding-html-and-css/\n",
      "No learning onjectives found: \n",
      "Too many requests!!\n",
      "502 Server Error: Bad Gateway for url: https://www.udemy.com/course/full-stack-web-development-html-css-bootstrap-and-react-js/\n",
      "No learning onjectives found: \n",
      "Too many requests!!\n",
      "502 Server Error: Bad Gateway for url: https://www.udemy.com/course/utilize-cpanel-to-maximize-your-websites-potential/\n",
      "No learning onjectives found: \n",
      "Too many requests!!\n",
      "500 Server Error: Internal Server Error for url: https://www.udemy.com/course/complete-reactjs-developer-bootcamp-build-10-projects/\n",
      "No learning onjectives found: \n"
     ]
    }
   ],
   "source": [
    "df['course_details'] = df['course_url'].apply(get_udemy_course_details)"
   ]
  },
  {
   "cell_type": "code",
   "execution_count": 25,
   "id": "8f00ba96",
   "metadata": {},
   "outputs": [
    {
     "data": {
      "text/html": [
       "<div>\n",
       "<style scoped>\n",
       "    .dataframe tbody tr th:only-of-type {\n",
       "        vertical-align: middle;\n",
       "    }\n",
       "\n",
       "    .dataframe tbody tr th {\n",
       "        vertical-align: top;\n",
       "    }\n",
       "\n",
       "    .dataframe thead th {\n",
       "        text-align: right;\n",
       "    }\n",
       "</style>\n",
       "<table border=\"1\" class=\"dataframe\">\n",
       "  <thead>\n",
       "    <tr style=\"text-align: right;\">\n",
       "      <th></th>\n",
       "      <th>course_id</th>\n",
       "      <th>course_title</th>\n",
       "      <th>course_url</th>\n",
       "      <th>course_instructor</th>\n",
       "      <th>course_rating</th>\n",
       "      <th>course_duration</th>\n",
       "      <th>course_details</th>\n",
       "      <th>course_level</th>\n",
       "      <th>course_no_of_reviews</th>\n",
       "      <th>course_no_of_enrolled</th>\n",
       "    </tr>\n",
       "  </thead>\n",
       "  <tbody>\n",
       "    <tr>\n",
       "      <th>0</th>\n",
       "      <td>ud_1565838</td>\n",
       "      <td>The Complete 2024 Web Development Bootcamp</td>\n",
       "      <td>https://www.udemy.com/course/the-complete-web-...</td>\n",
       "      <td>Dr. Angela Yu</td>\n",
       "      <td>4.701074</td>\n",
       "      <td>62.0</td>\n",
       "      <td>Welcome to the Complete Web Development Bootca...</td>\n",
       "      <td>0</td>\n",
       "      <td>362657</td>\n",
       "      <td>1208632</td>\n",
       "    </tr>\n",
       "    <tr>\n",
       "      <th>1</th>\n",
       "      <td>ud_625204</td>\n",
       "      <td>The Web Developer Bootcamp 2024</td>\n",
       "      <td>https://www.udemy.com/course/the-web-developer...</td>\n",
       "      <td>Colt Steele</td>\n",
       "      <td>4.677242</td>\n",
       "      <td>74.0</td>\n",
       "      <td>Now with over 10 hours of React content.  Just...</td>\n",
       "      <td>0</td>\n",
       "      <td>270209</td>\n",
       "      <td>902271</td>\n",
       "    </tr>\n",
       "    <tr>\n",
       "      <th>2</th>\n",
       "      <td>ud_851712</td>\n",
       "      <td>The Complete JavaScript Course 2024: From Zero...</td>\n",
       "      <td>https://www.udemy.com/course/the-complete-java...</td>\n",
       "      <td>Jonas Schmedtmann</td>\n",
       "      <td>4.713503</td>\n",
       "      <td>68.5</td>\n",
       "      <td>The #1 bestselling JavaScript course on Udemy!...</td>\n",
       "      <td>0</td>\n",
       "      <td>201155</td>\n",
       "      <td>888778</td>\n",
       "    </tr>\n",
       "    <tr>\n",
       "      <th>3</th>\n",
       "      <td>ud_756150</td>\n",
       "      <td>Angular - The Complete Guide (2024 Edition)</td>\n",
       "      <td>https://www.udemy.com/course/the-complete-guid...</td>\n",
       "      <td>Maximilian Schwarzmüller</td>\n",
       "      <td>4.617524</td>\n",
       "      <td>36.5</td>\n",
       "      <td>Join the most comprehensive and bestselling An...</td>\n",
       "      <td>0</td>\n",
       "      <td>198086</td>\n",
       "      <td>742648</td>\n",
       "    </tr>\n",
       "    <tr>\n",
       "      <th>4</th>\n",
       "      <td>ud_437398</td>\n",
       "      <td>Build Responsive Real-World Websites with HTML...</td>\n",
       "      <td>https://www.udemy.com/course/design-and-develo...</td>\n",
       "      <td>Jonas Schmedtmann</td>\n",
       "      <td>4.757232</td>\n",
       "      <td>37.5</td>\n",
       "      <td>*** The #1 bestselling HTML and CSS course on ...</td>\n",
       "      <td>0</td>\n",
       "      <td>104332</td>\n",
       "      <td>412961</td>\n",
       "    </tr>\n",
       "    <tr>\n",
       "      <th>5</th>\n",
       "      <td>ud_705264</td>\n",
       "      <td>Modern React with Redux [2024 Update]</td>\n",
       "      <td>https://www.udemy.com/course/react-redux/</td>\n",
       "      <td>Stephen Grider</td>\n",
       "      <td>4.729831</td>\n",
       "      <td>43.5</td>\n",
       "      <td>This course gets updated frequently! Here are ...</td>\n",
       "      <td>0</td>\n",
       "      <td>85893</td>\n",
       "      <td>314340</td>\n",
       "    </tr>\n",
       "    <tr>\n",
       "      <th>6</th>\n",
       "      <td>ud_764164</td>\n",
       "      <td>The Complete Web Developer Course 3.0</td>\n",
       "      <td>https://www.udemy.com/course/the-complete-web-...</td>\n",
       "      <td>Rob Percival</td>\n",
       "      <td>4.611889</td>\n",
       "      <td>31.0</td>\n",
       "      <td>25hrs+ BRAND NEW CONTENT to get you coding in ...</td>\n",
       "      <td>0</td>\n",
       "      <td>71955</td>\n",
       "      <td>313401</td>\n",
       "    </tr>\n",
       "    <tr>\n",
       "      <th>7</th>\n",
       "      <td>ud_995016</td>\n",
       "      <td>Vue - The Complete Guide (incl. Router &amp; Compo...</td>\n",
       "      <td>https://www.udemy.com/course/vuejs-2-the-compl...</td>\n",
       "      <td>Maximilian Schwarzmüller</td>\n",
       "      <td>4.757785</td>\n",
       "      <td>32.0</td>\n",
       "      <td>Join this bestselling Vue course to learn how ...</td>\n",
       "      <td>0</td>\n",
       "      <td>62231</td>\n",
       "      <td>235722</td>\n",
       "    </tr>\n",
       "    <tr>\n",
       "      <th>8</th>\n",
       "      <td>ud_1352468</td>\n",
       "      <td>Master Microservices with Spring Boot and Spri...</td>\n",
       "      <td>https://www.udemy.com/course/microservices-wit...</td>\n",
       "      <td>in28Minutes Official</td>\n",
       "      <td>4.570384</td>\n",
       "      <td>25.0</td>\n",
       "      <td>Do you want to learn from the  MOST POPULAR  C...</td>\n",
       "      <td>0</td>\n",
       "      <td>50167</td>\n",
       "      <td>248246</td>\n",
       "    </tr>\n",
       "    <tr>\n",
       "      <th>9</th>\n",
       "      <td>ud_822444</td>\n",
       "      <td>Python and Django Full Stack Web Developer Boo...</td>\n",
       "      <td>https://www.udemy.com/course/python-and-django...</td>\n",
       "      <td>Jose Portilla</td>\n",
       "      <td>4.456585</td>\n",
       "      <td>32.0</td>\n",
       "      <td>Welcome to the Python and Django Full Stack We...</td>\n",
       "      <td>0</td>\n",
       "      <td>49455</td>\n",
       "      <td>207962</td>\n",
       "    </tr>\n",
       "  </tbody>\n",
       "</table>\n",
       "</div>"
      ],
      "text/plain": [
       "    course_id                                       course_title  \\\n",
       "0  ud_1565838         The Complete 2024 Web Development Bootcamp   \n",
       "1   ud_625204                    The Web Developer Bootcamp 2024   \n",
       "2   ud_851712  The Complete JavaScript Course 2024: From Zero...   \n",
       "3   ud_756150        Angular - The Complete Guide (2024 Edition)   \n",
       "4   ud_437398  Build Responsive Real-World Websites with HTML...   \n",
       "5   ud_705264              Modern React with Redux [2024 Update]   \n",
       "6   ud_764164              The Complete Web Developer Course 3.0   \n",
       "7   ud_995016  Vue - The Complete Guide (incl. Router & Compo...   \n",
       "8  ud_1352468  Master Microservices with Spring Boot and Spri...   \n",
       "9   ud_822444  Python and Django Full Stack Web Developer Boo...   \n",
       "\n",
       "                                          course_url  \\\n",
       "0  https://www.udemy.com/course/the-complete-web-...   \n",
       "1  https://www.udemy.com/course/the-web-developer...   \n",
       "2  https://www.udemy.com/course/the-complete-java...   \n",
       "3  https://www.udemy.com/course/the-complete-guid...   \n",
       "4  https://www.udemy.com/course/design-and-develo...   \n",
       "5          https://www.udemy.com/course/react-redux/   \n",
       "6  https://www.udemy.com/course/the-complete-web-...   \n",
       "7  https://www.udemy.com/course/vuejs-2-the-compl...   \n",
       "8  https://www.udemy.com/course/microservices-wit...   \n",
       "9  https://www.udemy.com/course/python-and-django...   \n",
       "\n",
       "          course_instructor  course_rating  course_duration  \\\n",
       "0             Dr. Angela Yu       4.701074             62.0   \n",
       "1               Colt Steele       4.677242             74.0   \n",
       "2         Jonas Schmedtmann       4.713503             68.5   \n",
       "3  Maximilian Schwarzmüller       4.617524             36.5   \n",
       "4         Jonas Schmedtmann       4.757232             37.5   \n",
       "5            Stephen Grider       4.729831             43.5   \n",
       "6              Rob Percival       4.611889             31.0   \n",
       "7  Maximilian Schwarzmüller       4.757785             32.0   \n",
       "8      in28Minutes Official       4.570384             25.0   \n",
       "9             Jose Portilla       4.456585             32.0   \n",
       "\n",
       "                                      course_details  course_level  \\\n",
       "0  Welcome to the Complete Web Development Bootca...             0   \n",
       "1  Now with over 10 hours of React content.  Just...             0   \n",
       "2  The #1 bestselling JavaScript course on Udemy!...             0   \n",
       "3  Join the most comprehensive and bestselling An...             0   \n",
       "4  *** The #1 bestselling HTML and CSS course on ...             0   \n",
       "5  This course gets updated frequently! Here are ...             0   \n",
       "6  25hrs+ BRAND NEW CONTENT to get you coding in ...             0   \n",
       "7  Join this bestselling Vue course to learn how ...             0   \n",
       "8  Do you want to learn from the  MOST POPULAR  C...             0   \n",
       "9  Welcome to the Python and Django Full Stack We...             0   \n",
       "\n",
       "   course_no_of_reviews  course_no_of_enrolled  \n",
       "0                362657                1208632  \n",
       "1                270209                 902271  \n",
       "2                201155                 888778  \n",
       "3                198086                 742648  \n",
       "4                104332                 412961  \n",
       "5                 85893                 314340  \n",
       "6                 71955                 313401  \n",
       "7                 62231                 235722  \n",
       "8                 50167                 248246  \n",
       "9                 49455                 207962  "
      ]
     },
     "execution_count": 25,
     "metadata": {},
     "output_type": "execute_result"
    }
   ],
   "source": [
    "df.head(10)"
   ]
  },
  {
   "cell_type": "code",
   "execution_count": 51,
   "id": "8063ab99",
   "metadata": {},
   "outputs": [
    {
     "data": {
      "text/plain": [
       "0       Welcome to the Complete Web Development Bootca...\n",
       "1       Now with over 10 hours of React content.  Just...\n",
       "2       The #1 bestselling JavaScript course on Udemy!...\n",
       "3       Join the most comprehensive and bestselling An...\n",
       "4       *** The #1 bestselling HTML and CSS course on ...\n",
       "                              ...                        \n",
       "5651    Are you fascinated by the art of web developme...\n",
       "5652    Unleash the Power of String Diffing: Build & D...\n",
       "5653    Follow along with the course to create a full ...\n",
       "5654    Gives students and advanced learners a good gr...\n",
       "5655    You can code!  This HTML course is designed fo...\n",
       "Name: course_details, Length: 5656, dtype: object"
      ]
     },
     "execution_count": 51,
     "metadata": {},
     "output_type": "execute_result"
    }
   ],
   "source": [
    "df['course_details'].apply(lambda x: x.strip())"
   ]
  },
  {
   "cell_type": "code",
   "execution_count": 59,
   "id": "ce30be0b",
   "metadata": {},
   "outputs": [],
   "source": [
    "df = df[df['course_details'] != ' ']"
   ]
  },
  {
   "cell_type": "code",
   "execution_count": 60,
   "id": "6c2ab855",
   "metadata": {},
   "outputs": [],
   "source": [
    "count = (df['course_details'] == ' ').sum()"
   ]
  },
  {
   "cell_type": "code",
   "execution_count": 62,
   "id": "79546238",
   "metadata": {},
   "outputs": [
    {
     "data": {
      "text/plain": [
       "5642"
      ]
     },
     "execution_count": 62,
     "metadata": {},
     "output_type": "execute_result"
    }
   ],
   "source": [
    "len(df)"
   ]
  },
  {
   "cell_type": "code",
   "execution_count": 66,
   "id": "dd5df06a",
   "metadata": {},
   "outputs": [],
   "source": [
    "empty_details_indices = df['course_details'] == ''"
   ]
  },
  {
   "cell_type": "code",
   "execution_count": 67,
   "id": "4c3e5270",
   "metadata": {},
   "outputs": [],
   "source": [
    "df.loc[empty_details_indices, 'course_details'] = df.loc[empty_details_indices, 'course_url'].apply(get_udemy_course_details)"
   ]
  },
  {
   "cell_type": "code",
   "execution_count": 69,
   "id": "b505303f",
   "metadata": {},
   "outputs": [
    {
     "name": "stdout",
     "output_type": "stream",
     "text": [
      "Index([], dtype='int64')\n"
     ]
    }
   ],
   "source": [
    "print(df[df['course_details'] == ''].index)"
   ]
  },
  {
   "cell_type": "code",
   "execution_count": 74,
   "id": "266c25c3",
   "metadata": {},
   "outputs": [],
   "source": [
    "df.to_csv('udemy_course_all_info.csv')"
   ]
  },
  {
   "cell_type": "code",
   "execution_count": 390,
   "id": "6d8e248a",
   "metadata": {},
   "outputs": [],
   "source": [
    "coursera_df.to_csv('coursera_course_all_info')"
   ]
  }
 ],
 "metadata": {
  "kernelspec": {
   "display_name": "Python 3 (ipykernel)",
   "language": "python",
   "name": "python3"
  },
  "language_info": {
   "codemirror_mode": {
    "name": "ipython",
    "version": 3
   },
   "file_extension": ".py",
   "mimetype": "text/x-python",
   "name": "python",
   "nbconvert_exporter": "python",
   "pygments_lexer": "ipython3",
   "version": "3.11.5"
  }
 },
 "nbformat": 4,
 "nbformat_minor": 5
}
