{
 "cells": [
  {
   "cell_type": "code",
   "execution_count": 25,
   "id": "6b8c119c",
   "metadata": {},
   "outputs": [],
   "source": [
    "import requests\n",
    "import lxml.html as lx\n",
    "import time\n",
    "import re"
   ]
  },
  {
   "cell_type": "markdown",
   "id": "2a55ac37",
   "metadata": {},
   "source": [
    "#Udemy Description"
   ]
  },
  {
   "cell_type": "code",
   "execution_count": null,
   "id": "2e46406e",
   "metadata": {},
   "outputs": [],
   "source": [
    "\n",
    "# make a get request on session object and return response\n",
    "def get_http_response( url, params = {} ):\n",
    "\n",
    "  time.sleep(0.05)\n",
    "\n",
    "  try:\n",
    "    # get request\n",
    "    response = requests.get( url, params )\n",
    "    response.raise_for_status()\n",
    "\n",
    "  # handle exceptions\n",
    "  except requests.exceptions.HTTPError as e:\n",
    "    print(\"Too many requests!!\")\n",
    "    print(e)\n",
    "    return None\n",
    "\n",
    "  except requests.exceptions.URLRequired as e:\n",
    "    print(\"Invalid URL: Server could not be found for the given url\")\n",
    "    return None\n",
    "\n",
    "  else:\n",
    "    # return the response if no exceptions\n",
    "    return response\n",
    "\n",
    "\n",
    "    "
   ]
  },
  {
   "cell_type": "code",
   "execution_count": null,
   "id": "14afd585",
   "metadata": {},
   "outputs": [],
   "source": [
    "def get_udemy_course_details( url ):\n",
    "    \n",
    "    response = get_http_response( url )\n",
    "    \n",
    "    html = lx.fromstring(response.text)\n",
    "    \n",
    "    course_description = html.xpath(\"//body//div[@data-purpose='safely-set-inner-html:description:description']//text()\")\n",
    "    course_description = \" \".join(course_description).replace('\\xa0', ' ')\n",
    "    \n",
    "    learning_objectives = html.xpath(\"//body//ul[contains(@class, 'what-you-will-learn--objectives-list-two-column-layout--ED4as')]//div[contains(@class, 'ud-block-list-item-content')]//span/text()\")\n",
    "    learning_objectives = \" \".join(learning_objectives)\n",
    "    \n",
    "    course_details = course_description + ' ' + learning_objectives\n",
    "    return course_details\n",
    "    "
   ]
  },
  {
   "cell_type": "code",
   "execution_count": 113,
   "id": "6033b4d2",
   "metadata": {},
   "outputs": [],
   "source": [
    "url = 'https://www.udemy.com/course/javascript-web-projects-to-build-your-portfolio-resume'"
   ]
  },
  {
   "cell_type": "code",
   "execution_count": 114,
   "id": "64600355",
   "metadata": {},
   "outputs": [],
   "source": [
    "desc = get_udemy_course_details(url)"
   ]
  },
  {
   "cell_type": "code",
   "execution_count": 115,
   "id": "371313a9",
   "metadata": {},
   "outputs": [
    {
     "data": {
      "text/plain": [
       "\"Just updated with all modern features of HTML5, CSS3 and JavaScript! Join a live online community of over 900,000+ developers and a course taught by industry experts that have actually worked both in Silicon Valley and Toronto with JavaScript!   This course is focused on efficiency and getting you hired by building your dream portfolio so you can get a job or work as a freelancer. Never spend time on confusing, out of date, incomplete tutorials anymore!  Graduates of Andrei’s courses are now working at Google, Tesla, Amazon, Apple, IBM, JP Morgan, Facebook, + other top tech companies  (seriously, google this to verify some testimonials). Whether you want to become a freelancer, get hired, or to just advance your career,  this brand new course will take you step by step through 20 JavaScript projects that you will be able to customize and put on your portfolio right away.  Along the way, you will learn to build projects using HTML, CSS and JavaScript and truly build your skills as a JavaScript developer. Whether you want to one day learn React, Angular, Vue JS, Node.js, Svelte, or any other toolchain of a modern developer, at the end of the day, JavaScript fundamentals are key, and learning JavaScript is an investment that will pay off many years into the future. By solidifying your JavaScript knowledge and being able to build thing without crutches like libraries and frameworks, you will future proof yourself.  Here is the truth: It’s easy to find JavaScript projects to work on online. You can copy and paste code. You can watch YouTube videos. That’s simple  (and free) . This course is different in that not only de we have modern projects using the latest features of JavaScript, and browser APIs,  but we also do a Code Review of each project.  After we build a website, we go through the code and talk about how we can improve the code, how to improve the security, or improve the performance of your projects. It’s like having a senior developer finally teach you what good code means, what are the common mistakes beginners make, and how to  write maintainable code. All code is going to be provided to you, and even if you don’t like to code along, you will get access to the code for the projects to put them on your portfolio right away. So what are we building? Get ready for this:  Spock Rock Game - Confetti.js, Modules Quote Generator - Fetch, Async/Await, Quote API, CORS Picture-in-Picture - Picture-in-Picture API, Screen Capture API Bookmarks App - DOM, localStorage NASA APOD - Fetch,   Async/Await, NASA API, DOM, localStorage Animated Navigation - CSS Animations Infinite Scroll - Fetch, Async/Await, Unsplash API, DOM, Scroll Event Listener Countdown App - Date, localStorage Music Player - HTML 5 Audio API Calculator - Math Methods Splash Page - DOM Basics Light/Dark Mode - DOM, localStorage Form Validation - DOM, Forms Joke Teller - Fetch, Async/Await, Joke API, Text-to-Speech Video Player - HTML 5 Video API MS Paint Clone - Advanced HTML Canvas, localStorage Pong Clone - Advanced HTML Canvas Math Sprint Game - SetInterval, DOM, Array Methods, localStorage Animated Template - Template, AOS.js Drag and Drop - Drag and Drop API, localStorage We will be using modern ES6,ES7,ES8,ES9,ES10 features to master JavaScript! Think of this as a full on JavaScript bootcamp to get you from a beginner to a confident programmer! on top of that, we also cover common UI/UX practices to make sure we have good designs and our projects are mobile friendly. The course is not about making you just code along without understanding the principles so that when you are done with the course you don’t know what to do other than watch another tutorial. No!  This course will push you and challenge you to go from an absolute beginner in JavaScript to someone that is able to build projects on their own. So the best time to begin? It's Today! By taking that first step right now, you are that much closer to developing the skills that get you hired and closer to your dream career.  See you inside the course :) Taught By: Andrei Neagoie is the instructor of the  highest rated Development courses on Udemy as well as one of the fastest growing.  His graduates have moved on to work for some of the biggest tech companies around the world like Apple, Google, Amazon, JP Morgan, IBM, UNIQLO etc... He has been working as a senior software developer in Silicon Valley and Toronto for many years, and is now taking all that he has learned, to teach programming skills and to help you discover the amazing career opportunities that being a developer allows in life.  Having been a self taught programmer, he understands that there is an overwhelming number of online courses, tutorials and books that are overly verbose and inadequate at teaching proper skills. Most people feel paralyzed and don't know where to start when learning a complex subject matter, or even worse, most people don't have $20,000 to spend on a coding bootcamp.  Programming skills should be affordable and open to all. An education material should teach real life skills that are current and they should not waste a student's valuable time.    Having learned important lessons from working for Fortune 500 companies, tech startups, to even founding his own business, he is now dedicating 100% of his time to teaching others valuable software development skills in order to take control of their life and work in an exciting industry with infinite possibilities.  Andrei promises you that there are no other courses out there as comprehensive and as well explained.  He believes that in order to learn anything of value, you need to start with the foundation and develop the roots of the tree. Only from there will you be able to learn concepts and specific skills(leaves) that connect to the foundation. Learning becomes exponential when structured in this way.   Taking his experience in educational psychology and coding, Andrei's courses will take you on an understanding of complex subjects that you never thought would be possible.    -------- Jacinto is a Senior Developer with the Canadian Broadcasting Corporation with a diverse background, including 5 years experience as a teacher in Canada and South Korea. He has had a passion for technology from a very young age, which led him to build his first computer at age 12 and start using design software at 16. As an instructor for the Zero To Mastery Academy, Jacinto combines these artistic and critical thinking skills to create high quality projects that will add real value to student’s portfolios and jump start their careers in web development. Starting out learning something new can be challenging and there are so many resources available that it can be overwhelming. Jacinto understands that for some, bootcamps and post-secondary education are too time-consuming or expensive for many to consider. With that in mind, he does his best to create the highest quality courses that are inexpensive and beginner-friendly. As a self-taught developer,  Jacinto started from scratch and learned enough to land a Senior Developer job after only 4 months working through online courses . He knows it is possible to upgrade your skills and switch careers without spending excessive time or money. He couldn’t be happier to be in this exciting and growing industry and aims to provide students with the same opportunity. See you inside the courses! 20 projects with pure JavaScript, HTML5, CSS3 with all code provided Go from a total beginner to a confident JavaScript developer Learn UI/UX practices to build responsive and mobile first web applications Asynchronous programming with AJAX, Fetch API, Promises & Async + Await Write clean, maintainable and performant Javascript code Work with Web APIs (localStorage, DOM, + more) Modern HTML5 (Canvas, Video, Audio + more) Modern CSS3 (Animations, Transitions, Variables + more) Avoid common mistakes other Javascript programmers and beginners make Build 20 beautiful and customizable, real world frontend applications\""
      ]
     },
     "execution_count": 115,
     "metadata": {},
     "output_type": "execute_result"
    }
   ],
   "source": [
    "desc"
   ]
  },
  {
   "cell_type": "markdown",
   "id": "3993cd08",
   "metadata": {},
   "source": [
    "#  Coursera"
   ]
  },
  {
   "cell_type": "code",
   "execution_count": 117,
   "id": "663f83a1",
   "metadata": {},
   "outputs": [],
   "source": [
    "baseURL = 'https://www.coursera.org/courses?query=web%20development&page=2&productTypeDescription=Courses'"
   ]
  },
  {
   "cell_type": "code",
   "execution_count": null,
   "id": "48f4a032",
   "metadata": {},
   "outputs": [],
   "source": [
    "def get_course_list( baseURL )"
   ]
  }
 ],
 "metadata": {
  "kernelspec": {
   "display_name": "Python 3 (ipykernel)",
   "language": "python",
   "name": "python3"
  },
  "language_info": {
   "codemirror_mode": {
    "name": "ipython",
    "version": 3
   },
   "file_extension": ".py",
   "mimetype": "text/x-python",
   "name": "python",
   "nbconvert_exporter": "python",
   "pygments_lexer": "ipython3",
   "version": "3.11.5"
  }
 },
 "nbformat": 4,
 "nbformat_minor": 5
}
